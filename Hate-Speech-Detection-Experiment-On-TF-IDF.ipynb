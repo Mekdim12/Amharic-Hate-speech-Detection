{
 "cells": [
  {
   "cell_type": "code",
   "execution_count": 1,
   "id": "9a6a7656",
   "metadata": {},
   "outputs": [
    {
     "name": "stderr",
     "output_type": "stream",
     "text": [
      "[nltk_data] Downloading package punkt to\n",
      "[nltk_data]     C:\\Users\\MekdimTamirat\\AppData\\Roaming\\nltk_data...\n",
      "[nltk_data]   Package punkt is already up-to-date!\n"
     ]
    },
    {
     "data": {
      "text/plain": [
       "True"
      ]
     },
     "execution_count": 1,
     "metadata": {},
     "output_type": "execute_result"
    }
   ],
   "source": [
    "import pandas as pd\n",
    "import re\n",
    "import numpy as np\n",
    "from nltk.tokenize import word_tokenize\n",
    "from gensim.models import Word2Vec\n",
    "from tensorflow.keras.preprocessing.text import Tokenizer\n",
    "#from tensorflow.keras.utils import np_utils\n",
    "from sklearn.manifold import TSNE\n",
    "from sklearn.model_selection import train_test_split\n",
    "from sklearn import tree\n",
    "from tensorflow.keras.preprocessing import sequence\n",
    "from sklearn.ensemble import RandomForestClassifier\n",
    "from sklearn.preprocessing import LabelEncoder\n",
    "from sklearn.naive_bayes import MultinomialNB\n",
    "from sklearn.metrics import classification_report, confusion_matrix\n",
    "import seaborn as sns\n",
    "from matplotlib import pyplot as plt\n",
    "from sklearn import metrics\n",
    "from sklearn.svm import SVC\n",
    "from sklearn import svm\n",
    "import nltk\n",
    "nltk.download('punkt')"
   ]
  },
  {
   "cell_type": "markdown",
   "id": "9aca2948",
   "metadata": {},
   "source": [
    "# loading the dataset"
   ]
  },
  {
   "cell_type": "code",
   "execution_count": 2,
   "id": "d7f1d42e",
   "metadata": {
    "scrolled": false
   },
   "outputs": [],
   "source": [
    "HSD_data = pd.read_csv('C:/Users/MekdimTamirat/Documents/Active Projects/hateSpeechDetectionOnSocailMedia/data_HSD_final.csv')\n",
    "HSD_data.columns = ['Text', 'Catagory'] # give column names\n"
   ]
  },
  {
   "cell_type": "code",
   "execution_count": 3,
   "id": "99b4feee",
   "metadata": {},
   "outputs": [
    {
     "data": {
      "text/html": [
       "<div>\n",
       "<style scoped>\n",
       "    .dataframe tbody tr th:only-of-type {\n",
       "        vertical-align: middle;\n",
       "    }\n",
       "\n",
       "    .dataframe tbody tr th {\n",
       "        vertical-align: top;\n",
       "    }\n",
       "\n",
       "    .dataframe thead th {\n",
       "        text-align: right;\n",
       "    }\n",
       "</style>\n",
       "<table border=\"1\" class=\"dataframe\">\n",
       "  <thead>\n",
       "    <tr style=\"text-align: right;\">\n",
       "      <th></th>\n",
       "      <th>Text</th>\n",
       "      <th>Catagory</th>\n",
       "    </tr>\n",
       "  </thead>\n",
       "  <tbody>\n",
       "    <tr>\n",
       "      <th>0</th>\n",
       "      <td>ሰልጣን እስኪያገኝ ተራ የሚጠብቅ</td>\n",
       "      <td>Non-Hate</td>\n",
       "    </tr>\n",
       "    <tr>\n",
       "      <th>1</th>\n",
       "      <td>ይሰማል አወኩ አወኩኝ ብለሽ እንደ ቅዱስ ቃሉ ሆንሽ</td>\n",
       "      <td>Non-Hate</td>\n",
       "    </tr>\n",
       "    <tr>\n",
       "      <th>2</th>\n",
       "      <td>የኢትዮጵያ ባንዲራ በሌለበት ኢትዮጵያዊነት አይኖርም</td>\n",
       "      <td>Non-Hate</td>\n",
       "    </tr>\n",
       "    <tr>\n",
       "      <th>3</th>\n",
       "      <td>እና ምንይሁን ተድያ</td>\n",
       "      <td>Non-Hate</td>\n",
       "    </tr>\n",
       "    <tr>\n",
       "      <th>4</th>\n",
       "      <td>የኑረነቢ ማህደር የተባለውን መጽሃፌን አንብበሽ ቢሆን ኖሮ ይህን ጥያቄ ባ...</td>\n",
       "      <td>Non-Hate</td>\n",
       "    </tr>\n",
       "  </tbody>\n",
       "</table>\n",
       "</div>"
      ],
      "text/plain": [
       "                                                Text  Catagory\n",
       "0                               ሰልጣን እስኪያገኝ ተራ የሚጠብቅ  Non-Hate\n",
       "1                   ይሰማል አወኩ አወኩኝ ብለሽ እንደ ቅዱስ ቃሉ ሆንሽ  Non-Hate\n",
       "2                   የኢትዮጵያ ባንዲራ በሌለበት ኢትዮጵያዊነት አይኖርም  Non-Hate\n",
       "3                                       እና ምንይሁን ተድያ  Non-Hate\n",
       "4  የኑረነቢ ማህደር የተባለውን መጽሃፌን አንብበሽ ቢሆን ኖሮ ይህን ጥያቄ ባ...  Non-Hate"
      ]
     },
     "execution_count": 3,
     "metadata": {},
     "output_type": "execute_result"
    }
   ],
   "source": [
    "HSD_data.head()\n"
   ]
  },
  {
   "cell_type": "code",
   "execution_count": 4,
   "id": "717cd453",
   "metadata": {},
   "outputs": [
    {
     "data": {
      "text/html": [
       "<div>\n",
       "<style scoped>\n",
       "    .dataframe tbody tr th:only-of-type {\n",
       "        vertical-align: middle;\n",
       "    }\n",
       "\n",
       "    .dataframe tbody tr th {\n",
       "        vertical-align: top;\n",
       "    }\n",
       "\n",
       "    .dataframe thead th {\n",
       "        text-align: right;\n",
       "    }\n",
       "</style>\n",
       "<table border=\"1\" class=\"dataframe\">\n",
       "  <thead>\n",
       "    <tr style=\"text-align: right;\">\n",
       "      <th></th>\n",
       "      <th>Text</th>\n",
       "      <th>Catagory</th>\n",
       "    </tr>\n",
       "  </thead>\n",
       "  <tbody>\n",
       "    <tr>\n",
       "      <th>9394</th>\n",
       "      <td>ይህ ቆሻሻ መንግስት ህዝብ አስጨረሰ እባካችሁ ለዚህ የዋህ ሚስኪን ህዝብ/...</td>\n",
       "      <td>hate-speech</td>\n",
       "    </tr>\n",
       "    <tr>\n",
       "      <th>9395</th>\n",
       "      <td>ሀሀሀሀሀሀሀሀ አበረ አዳሙ የአንተን በደል ጊዜ ይመልሰው</td>\n",
       "      <td>hate-speech</td>\n",
       "    </tr>\n",
       "    <tr>\n",
       "      <th>9396</th>\n",
       "      <td>እስክንድር ጋ ተገናኝ የአአ መሪ እሱ ነው ታኬ ህገወጥ ነው!!</td>\n",
       "      <td>hate-speech</td>\n",
       "    </tr>\n",
       "    <tr>\n",
       "      <th>9397</th>\n",
       "      <td>ፎቶ ብቻ ጉራ ብቻ መጀመሪያ የ አ.አ ልጆችን ፍታ</td>\n",
       "      <td>hate-speech</td>\n",
       "    </tr>\n",
       "    <tr>\n",
       "      <th>9398</th>\n",
       "      <td>የኦርቶዶክስ እያፈረሱ የሌላን ይገነባሉ ድሮም ሴጣን ቤቱን ለማደስ ይሮጣል...</td>\n",
       "      <td>hate-speech</td>\n",
       "    </tr>\n",
       "  </tbody>\n",
       "</table>\n",
       "</div>"
      ],
      "text/plain": [
       "                                                   Text     Catagory\n",
       "9394  ይህ ቆሻሻ መንግስት ህዝብ አስጨረሰ እባካችሁ ለዚህ የዋህ ሚስኪን ህዝብ/...  hate-speech\n",
       "9395                ሀሀሀሀሀሀሀሀ አበረ አዳሙ የአንተን በደል ጊዜ ይመልሰው  hate-speech\n",
       "9396            እስክንድር ጋ ተገናኝ የአአ መሪ እሱ ነው ታኬ ህገወጥ ነው!!  hate-speech\n",
       "9397                    ፎቶ ብቻ ጉራ ብቻ መጀመሪያ የ አ.አ ልጆችን ፍታ  hate-speech\n",
       "9398  የኦርቶዶክስ እያፈረሱ የሌላን ይገነባሉ ድሮም ሴጣን ቤቱን ለማደስ ይሮጣል...  hate-speech"
      ]
     },
     "execution_count": 4,
     "metadata": {},
     "output_type": "execute_result"
    }
   ],
   "source": [
    "HSD_data.tail()"
   ]
  },
  {
   "cell_type": "markdown",
   "id": "1b3b876b",
   "metadata": {},
   "source": [
    "# displaying with histogram the two node values"
   ]
  },
  {
   "cell_type": "code",
   "execution_count": 5,
   "id": "c6c1efad",
   "metadata": {},
   "outputs": [
    {
     "data": {
      "image/png": "[encoded data removed]",
      "text/plain": [
       "<Figure size 700x300 with 1 Axes>"
      ]
     },
     "metadata": {},
     "output_type": "display_data"
    }
   ],
   "source": [
    "# Creating histogram\n",
    "fig, ax = plt.subplots(figsize =(7, 3))\n",
    "ax.hist(HSD_data['Catagory'])\n",
    " \n",
    "# Show plot\n",
    "plt.show()\n",
    "\n",
    "\n",
    "# --------  ignoring the fact that the datas are unbalanced !!! ------------"
   ]
  },
  {
   "cell_type": "markdown",
   "id": "b3dd7413",
   "metadata": {},
   "source": [
    "# pre-processing the data\n"
   ]
  },
  {
   "cell_type": "markdown",
   "id": "2aef17ec",
   "metadata": {},
   "source": [
    "####  step- 1 Removing unnecessary punctuation and characters\n",
    "####  step -2 Tokenization\n",
    "####  step -3 Removing stop words \n",
    "####  step-4  Normalization\n",
    "#####  step -5 Stemming\n",
    "#####  step -6 Lemmatization\n"
   ]
  },
  {
   "cell_type": "markdown",
   "id": "7f856b0d",
   "metadata": {},
   "source": [
    "### Step -1 "
   ]
  },
  {
   "cell_type": "code",
   "execution_count": 6,
   "id": "b6f6f954",
   "metadata": {},
   "outputs": [],
   "source": [
    "words = HSD_data['Text']\n",
    "finalWords = []\n",
    "for word in words:\n",
    "    \n",
    "    word = word.strip() # removing the uncessary word whitespaces\n",
    "    \n",
    "    #remove any non-alphanumeric character\n",
    "    word = re.sub(r'\\W', ' ', str(word))\n",
    "    \n",
    "    #remove any digit\n",
    "    word = re.sub(\"(\\\\d)+\",\" \",word)\n",
    "    \n",
    "    #remove punctuation \n",
    "    word = re.sub(\",#'!:;\",\" \",word)\n",
    "    \n",
    "    #remove any latin characters \n",
    "    word = re.sub(r'[a-zA-Z]+', '', word)\n",
    "\n",
    "    word = re.sub('\\s+', ' ', word)  # remove extra whitespace\n",
    "    finalWords.append(word)\n",
    "\n"
   ]
  },
  {
   "cell_type": "markdown",
   "id": "3220db9f",
   "metadata": {},
   "source": [
    "###  step -2 "
   ]
  },
  {
   "cell_type": "code",
   "execution_count": 7,
   "id": "ecb9d458",
   "metadata": {},
   "outputs": [],
   "source": [
    "\n",
    "tokenizedList = []\n",
    "for lineWord in finalWords:\n",
    "    separatedWords = lineWord.split(' ')\n",
    "    word = [word for word in separatedWords if   word.strip() != '']\n",
    "    tokenizedList.append(word)\n",
    "    "
   ]
  },
  {
   "cell_type": "markdown",
   "id": "f8bb7185",
   "metadata": {},
   "source": [
    "### step -3"
   ]
  },
  {
   "cell_type": "code",
   "execution_count": 8,
   "id": "8fc7bde4",
   "metadata": {},
   "outputs": [],
   "source": [
    "# list amharic stop words\n",
    "stopwords=['ነው', 'እና', 'እኔ', 'የእኔ','እኔ','ራሴ','እኛ','የእኛ','እኛ','ራሳችን','አንቺ' ,'የእርስዎ' ,'እራስዎ','እራሳችሁን','የእሱ',\n",
    "           'እሱ','እ','ራሱ','እሷ' 'ራሷን','እሱ','በራሱ','እነሱ','የእነሱ','እራሳቸው','ምንድን','የት','ማን','ይሄ','ያንን','እነዚህ','እነዚያ'\n",
    "           ,'ነው','እነዚህ','ናቸው','ነበር','ነበሩ','መሆን','ሆኗል','መሆን','አለ','ነበሩ','አለው','መስራት','ያደርገዋል','አደረጉት',\n",
    "           'ማድረግ','እና','ግን','ከሆነ','ወይም','ምክንያቱም','እንደ','እስከ','ገና','የ','ለ','ከ','ጋር','ስለ','መካከል','ውስጥ',\n",
    "           'ከዚህ','በፊት','በኋላ','ከላይ','ከታች','ወደ','ከ','ወደ','ላይ','ታች','ውስጥ','ውጭ','በላይ','በታች','በድጋሚ','እናስ','እናም']\n",
    "\n",
    "           \n",
    "cleanedWordsList= []\n",
    "for lineWords in tokenizedList:\n",
    "    tempList = []\n",
    "    for word in lineWords:\n",
    "        if word not in stopwords:\n",
    "            tempList.append(word)\n",
    "    cleanedWordsList.append(tempList)\n",
    "    \n",
    "        "
   ]
  },
  {
   "cell_type": "markdown",
   "id": "ced292d4",
   "metadata": {},
   "source": [
    "### Step -4 "
   ]
  },
  {
   "cell_type": "code",
   "execution_count": 9,
   "id": "bb714e36",
   "metadata": {},
   "outputs": [],
   "source": [
    "# for the time being this is fine but convert it to something good but not this at all\n",
    "\n",
    "normalizedSenteces = []\n",
    "for linesWords in cleanedWordsList:\n",
    "    tempList = []\n",
    "    for word in linesWords:\n",
    "        \n",
    "        word = re.sub(\"ሐ\",\"ሀ\",word)\n",
    "        word = re.sub(\"ሑ\",\"ሁ\",word)\n",
    "        word = re.sub(\"ሒ\",\"ሂ\",word)\n",
    "        word = re.sub(\"ሓ\",\"ሃ\",word)\n",
    "        word = re.sub(\"ሔ\",\"ሄ\",word)\n",
    "        word = re.sub(\"ሕ\",\"ህ\",word)\n",
    "        word = re.sub(\"ሖ\",\"ሆ\",word)\n",
    "        \n",
    "        word = re.sub(\"ኀ\",\"ሀ\",word)\n",
    "        word = re.sub(\"ኁ\",\"ሁ\",word)\n",
    "        word = re.sub(\"ኂ\",\"ሂ\",word)\n",
    "        word = re.sub(\"ኃ\",\"ሃ\",word)\n",
    "        word = re.sub(\"ኄ\",\"ሄ\",word)\n",
    "        word = re.sub(\"ኅ\",\"ህ\",word)\n",
    "        word = re.sub(\"ኆ\",\"ሆ\",word)\n",
    "        \n",
    "        word = re.sub(\"ሠ\",\"ሰ\",word)\n",
    "        word = re.sub(\"ሡ\",\"ሱ\",word)\n",
    "        word = re.sub(\"ሢ\",\"ሲ\",word)\n",
    "        word = re.sub(\"ሣ\",\"ሳ\",word)\n",
    "        word = re.sub(\"ሤ\",\"ሴ\",word)\n",
    "        word = re.sub(\"ሥ\",\"ስ\",word)\n",
    "        word = re.sub(\"ሦ\",\"ሶ\",word)\n",
    "        \n",
    "        word = re.sub(\"ዐ\",\"አ\",word)\n",
    "        word = re.sub(\"ዑ\",\"ኡ\",word)\n",
    "        word = re.sub(\"ዒ\",\"ኢ\",word)\n",
    "        word = re.sub(\"ዓ\",\"ኣ\",word)\n",
    "        word = re.sub(\"ዔ\",\"ኤ\",word)\n",
    "        word = re.sub(\"ዕ\",\"እ\",word)\n",
    "        word = re.sub(\"ዖ\",\"ኦ\",word)\n",
    "        \n",
    "        word = re.sub(\"ዐ\",\"አ\",word)\n",
    "        word = re.sub(\"ዑ\",\"ኡ\",word)\n",
    "        word = re.sub(\"ዒ\",\"ኢ\",word)\n",
    "        word = re.sub(\"ዓ\",\"ኣ\",word)\n",
    "        word = re.sub(\"ዔ\",\"ኤ\",word)\n",
    "        word = re.sub(\"ዕ\",\"እ\",word)\n",
    "        word = re.sub(\"ዖ\",\"ኦ\",word)\n",
    "        \n",
    "        word = re.sub(\"ጸ\",\"ፀ\",word)\n",
    "        word = re.sub(\"ጹ\",\"ፁ\",word)\n",
    "        word = re.sub(\"ጺ\",\"ፂ\",word)\n",
    "        word = re.sub(\"ጻ\",\"ፃ\",word)\n",
    "        word = re.sub(\"ጼ\",\"ፄ\",word)\n",
    "        word = re.sub(\"ጽ\",\"ፅ\",word)\n",
    "        word = re.sub(\"ጾ\",\"ፆ\",word)\n",
    "        \n",
    "        tempList.append(word)\n",
    "    normalizedSenteces.append(tempList)\n",
    "        \n",
    "        \n",
    "       \n",
    "       \n",
    "            \n",
    "            \n",
    "            \n",
    "\n",
    "        "
   ]
  },
  {
   "cell_type": "code",
   "execution_count": 16,
   "id": "415f741b",
   "metadata": {},
   "outputs": [],
   "source": [
    " HSD_data['Catagory'] = HSD_data.Catagory.map({'Non-Hate':1,'hate-speech':0})\n",
    "    "
   ]
  },
  {
   "cell_type": "markdown",
   "id": "c38ec18b",
   "metadata": {},
   "source": [
    "---- converting the dataset to vectors\n",
    "\n",
    "## Feuture Extraction methods used\n",
    "\n",
    "#### 1- Tf Idf\n",
    "#### 2- N-grams\n",
    "\n"
   ]
  },
  {
   "cell_type": "markdown",
   "id": "09d9ff3b",
   "metadata": {},
   "source": []
  },
  {
   "cell_type": "code",
   "execution_count": 17,
   "id": "b951b279",
   "metadata": {},
   "outputs": [],
   "source": [
    "# # Split into training and testing data\n",
    "x = HSD_data['Text']\n",
    "y = HSD_data['Catagory']"
   ]
  },
  {
   "cell_type": "code",
   "execution_count": 18,
   "id": "4ea1df66",
   "metadata": {},
   "outputs": [],
   "source": [
    "import pandas as pd\n",
    "\n",
    "\n",
    "normalizedSenteces  = pd.Series(normalizedSenteces)\n",
    "\n",
    "finalSentences = []\n",
    "for lists in normalizedSenteces:\n",
    "    temp = \"\"\n",
    "    for word in lists:\n",
    "        temp =  temp +\" \"+word\n",
    "    finalSentences.append(temp)\n",
    "\n",
    "    \n",
    "x = pd.Series(finalSentences)"
   ]
  },
  {
   "cell_type": "markdown",
   "id": "48c3f978",
   "metadata": {},
   "source": [
    "## TF- IDF vectorizer\n"
   ]
  },
  {
   "cell_type": "code",
   "execution_count": 19,
   "id": "1517d388",
   "metadata": {},
   "outputs": [],
   "source": [
    "from sklearn.feature_extraction.text import TfidfVectorizer\n",
    "\n",
    "\n",
    "\n",
    "vectorizer = TfidfVectorizer(\n",
    "  use_idf=True,\n",
    "  smooth_idf = False,\n",
    "  decode_error = 'replace',\n",
    "  min_df = 3,\n",
    "  max_df = 0.75  \n",
    ")\n",
    "\n",
    "\n",
    "vect_fit = vectorizer.fit(x)\n",
    "x_train_transform_vect = vect_fit.transform(x)\n"
   ]
  },
  {
   "cell_type": "markdown",
   "id": "b2c06149",
   "metadata": {},
   "source": [
    "### spliting the data to training and test data\n"
   ]
  },
  {
   "cell_type": "code",
   "execution_count": 20,
   "id": "19e0354c",
   "metadata": {},
   "outputs": [],
   "source": [
    "# Split into training and testing data after vectorizing for testing purpose\n",
    "x_train, x_test, y_train, y_test = train_test_split(x_train_transform_vect,y,  test_size=0.2, random_state=42)\n"
   ]
  },
  {
   "cell_type": "markdown",
   "id": "1a6ff1a0",
   "metadata": {},
   "source": [
    "### TF-IDF WITH NAIVE BAYES\n"
   ]
  },
  {
   "cell_type": "code",
   "execution_count": 21,
   "id": "8e8c1da8",
   "metadata": {
    "scrolled": true
   },
   "outputs": [
    {
     "data": {
      "text/html": [
       "<style>#sk-container-id-2 {color: black;background-color: white;}#sk-container-id-2 pre{padding: 0;}#sk-container-id-2 div.sk-toggleable {background-color: white;}#sk-container-id-2 label.sk-toggleable__label {cursor: pointer;display: block;width: 100%;margin-bottom: 0;padding: 0.3em;box-sizing: border-box;text-align: center;}#sk-container-id-2 label.sk-toggleable__label-arrow:before {content: \"▸\";float: left;margin-right: 0.25em;color: #696969;}#sk-container-id-2 label.sk-toggleable__label-arrow:hover:before {color: black;}#sk-container-id-2 div.sk-estimator:hover label.sk-toggleable__label-arrow:before {color: black;}#sk-container-id-2 div.sk-toggleable__content {max-height: 0;max-width: 0;overflow: hidden;text-align: left;background-color: #f0f8ff;}#sk-container-id-2 div.sk-toggleable__content pre {margin: 0.2em;color: black;border-radius: 0.25em;background-color: #f0f8ff;}#sk-container-id-2 input.sk-toggleable__control:checked~div.sk-toggleable__content {max-height: 200px;max-width: 100%;overflow: auto;}#sk-container-id-2 input.sk-toggleable__control:checked~label.sk-toggleable__label-arrow:before {content: \"▾\";}#sk-container-id-2 div.sk-estimator input.sk-toggleable__control:checked~label.sk-toggleable__label {background-color: #d4ebff;}#sk-container-id-2 div.sk-label input.sk-toggleable__control:checked~label.sk-toggleable__label {background-color: #d4ebff;}#sk-container-id-2 input.sk-hidden--visually {border: 0;clip: rect(1px 1px 1px 1px);clip: rect(1px, 1px, 1px, 1px);height: 1px;margin: -1px;overflow: hidden;padding: 0;position: absolute;width: 1px;}#sk-container-id-2 div.sk-estimator {font-family: monospace;background-color: #f0f8ff;border: 1px dotted black;border-radius: 0.25em;box-sizing: border-box;margin-bottom: 0.5em;}#sk-container-id-2 div.sk-estimator:hover {background-color: #d4ebff;}#sk-container-id-2 div.sk-parallel-item::after {content: \"\";width: 100%;border-bottom: 1px solid gray;flex-grow: 1;}#sk-container-id-2 div.sk-label:hover label.sk-toggleable__label {background-color: #d4ebff;}#sk-container-id-2 div.sk-serial::before {content: \"\";position: absolute;border-left: 1px solid gray;box-sizing: border-box;top: 0;bottom: 0;left: 50%;z-index: 0;}#sk-container-id-2 div.sk-serial {display: flex;flex-direction: column;align-items: center;background-color: white;padding-right: 0.2em;padding-left: 0.2em;position: relative;}#sk-container-id-2 div.sk-item {position: relative;z-index: 1;}#sk-container-id-2 div.sk-parallel {display: flex;align-items: stretch;justify-content: center;background-color: white;position: relative;}#sk-container-id-2 div.sk-item::before, #sk-container-id-2 div.sk-parallel-item::before {content: \"\";position: absolute;border-left: 1px solid gray;box-sizing: border-box;top: 0;bottom: 0;left: 50%;z-index: -1;}#sk-container-id-2 div.sk-parallel-item {display: flex;flex-direction: column;z-index: 1;position: relative;background-color: white;}#sk-container-id-2 div.sk-parallel-item:first-child::after {align-self: flex-end;width: 50%;}#sk-container-id-2 div.sk-parallel-item:last-child::after {align-self: flex-start;width: 50%;}#sk-container-id-2 div.sk-parallel-item:only-child::after {width: 0;}#sk-container-id-2 div.sk-dashed-wrapped {border: 1px dashed gray;margin: 0 0.4em 0.5em 0.4em;box-sizing: border-box;padding-bottom: 0.4em;background-color: white;}#sk-container-id-2 div.sk-label label {font-family: monospace;font-weight: bold;display: inline-block;line-height: 1.2em;}#sk-container-id-2 div.sk-label-container {text-align: center;}#sk-container-id-2 div.sk-container {/* jupyter's `normalize.less` sets `[hidden] { display: none; }` but bootstrap.min.css set `[hidden] { display: none !important; }` so we also need the `!important` here to be able to override the default hidden behavior on the sphinx rendered scikit-learn.org. See: https://github.com/scikit-learn/scikit-learn/issues/21755 */display: inline-block !important;position: relative;}#sk-container-id-2 div.sk-text-repr-fallback {display: none;}</style><div id=\"sk-container-id-2\" class=\"sk-top-container\"><div class=\"sk-text-repr-fallback\"><pre>MultinomialNB()</pre><b>In a Jupyter environment, please rerun this cell to show the HTML representation or trust the notebook. <br />On GitHub, the HTML representation is unable to render, please try loading this page with nbviewer.org.</b></div><div class=\"sk-container\" hidden><div class=\"sk-item\"><div class=\"sk-estimator sk-toggleable\"><input class=\"sk-toggleable__control sk-hidden--visually\" id=\"sk-estimator-id-2\" type=\"checkbox\" checked><label for=\"sk-estimator-id-2\" class=\"sk-toggleable__label sk-toggleable__label-arrow\">MultinomialNB</label><div class=\"sk-toggleable__content\"><pre>MultinomialNB()</pre></div></div></div></div></div>"
      ],
      "text/plain": [
       "MultinomialNB()"
      ]
     },
     "execution_count": 21,
     "metadata": {},
     "output_type": "execute_result"
    }
   ],
   "source": [
    "model_NB = MultinomialNB()\n",
    "model_NB.fit(x_train, y_train)\n"
   ]
  },
  {
   "cell_type": "markdown",
   "id": "22f635c5",
   "metadata": {},
   "source": [
    "#### predicting the and getting necessary accurracy -- NB\n"
   ]
  },
  {
   "cell_type": "code",
   "execution_count": 22,
   "id": "646117d3",
   "metadata": {},
   "outputs": [],
   "source": [
    "# prediction \n",
    "predicted = model_NB.predict(x_test)\n",
    "\n",
    "# Score\n",
    "nb_score = model_NB.score(x_test, y_test)\n",
    "\n",
    "\n",
    "accuracy_score =metrics.accuracy_score(y_test, predicted)\n",
    "confusion_matric = metrics.confusion_matrix(y_test, predicted)\n",
    "classification_score = metrics.classification_report(y_test, predicted)\n",
    "precission_score = metrics.precision_score(y_test, predicted)\n",
    "recall_score = metrics.recall_score(y_test, predicted)\n",
    "\n"
   ]
  },
  {
   "cell_type": "code",
   "execution_count": 23,
   "id": "9204da65",
   "metadata": {},
   "outputs": [
    {
     "name": "stdout",
     "output_type": "stream",
     "text": [
      "0.8590425531914894\n",
      "0.8590425531914894\n",
      "[[ 448  220]\n",
      " [  45 1167]]\n",
      "              precision    recall  f1-score   support\n",
      "\n",
      "           0       0.91      0.67      0.77       668\n",
      "           1       0.84      0.96      0.90      1212\n",
      "\n",
      "    accuracy                           0.86      1880\n",
      "   macro avg       0.88      0.82      0.83      1880\n",
      "weighted avg       0.87      0.86      0.85      1880\n",
      "\n",
      "0.8413842826243692\n",
      "0.9628712871287128\n",
      "\n"
     ]
    }
   ],
   "source": [
    "print(nb_score)\n",
    "print(accuracy_score)\n",
    "print(confusion_matric)\n",
    "print(classification_score)\n",
    "print(precission_score)\n",
    "print(recall_score)\n",
    "print()"
   ]
  },
  {
   "cell_type": "code",
   "execution_count": 24,
   "id": "770c9ac3",
   "metadata": {},
   "outputs": [
    {
     "data": {
      "text/plain": [
       "Text(50.722222222222214, 0.5, 'y_pred')"
      ]
     },
     "execution_count": 24,
     "metadata": {},
     "output_type": "execute_result"
    },
    {
     "data": {
      "image/png": "[encoded data removed]",
      "text/plain": [
       "<Figure size 640x480 with 2 Axes>"
      ]
     },
     "metadata": {},
     "output_type": "display_data"
    }
   ],
   "source": [
    "cm=confusion_matrix(y_test,predicted)\n",
    "ax=sns.heatmap(cm,annot=True,cmap='Blues',fmt=' ')\n",
    "ax.set_title('Confusion Matrix naive bayes with tf-id')\n",
    "ax.set_xlabel('y_test')\n",
    "ax.set_ylabel('y_pred')"
   ]
  },
  {
   "cell_type": "markdown",
   "id": "9bb58c61",
   "metadata": {},
   "source": [
    "## TF-IDF With SVM"
   ]
  },
  {
   "cell_type": "code",
   "execution_count": 33,
   "id": "3d520f6b",
   "metadata": {},
   "outputs": [
    {
     "data": {
      "text/html": [
       "<style>#sk-container-id-4 {color: black;background-color: white;}#sk-container-id-4 pre{padding: 0;}#sk-container-id-4 div.sk-toggleable {background-color: white;}#sk-container-id-4 label.sk-toggleable__label {cursor: pointer;display: block;width: 100%;margin-bottom: 0;padding: 0.3em;box-sizing: border-box;text-align: center;}#sk-container-id-4 label.sk-toggleable__label-arrow:before {content: \"▸\";float: left;margin-right: 0.25em;color: #696969;}#sk-container-id-4 label.sk-toggleable__label-arrow:hover:before {color: black;}#sk-container-id-4 div.sk-estimator:hover label.sk-toggleable__label-arrow:before {color: black;}#sk-container-id-4 div.sk-toggleable__content {max-height: 0;max-width: 0;overflow: hidden;text-align: left;background-color: #f0f8ff;}#sk-container-id-4 div.sk-toggleable__content pre {margin: 0.2em;color: black;border-radius: 0.25em;background-color: #f0f8ff;}#sk-container-id-4 input.sk-toggleable__control:checked~div.sk-toggleable__content {max-height: 200px;max-width: 100%;overflow: auto;}#sk-container-id-4 input.sk-toggleable__control:checked~label.sk-toggleable__label-arrow:before {content: \"▾\";}#sk-container-id-4 div.sk-estimator input.sk-toggleable__control:checked~label.sk-toggleable__label {background-color: #d4ebff;}#sk-container-id-4 div.sk-label input.sk-toggleable__control:checked~label.sk-toggleable__label {background-color: #d4ebff;}#sk-container-id-4 input.sk-hidden--visually {border: 0;clip: rect(1px 1px 1px 1px);clip: rect(1px, 1px, 1px, 1px);height: 1px;margin: -1px;overflow: hidden;padding: 0;position: absolute;width: 1px;}#sk-container-id-4 div.sk-estimator {font-family: monospace;background-color: #f0f8ff;border: 1px dotted black;border-radius: 0.25em;box-sizing: border-box;margin-bottom: 0.5em;}#sk-container-id-4 div.sk-estimator:hover {background-color: #d4ebff;}#sk-container-id-4 div.sk-parallel-item::after {content: \"\";width: 100%;border-bottom: 1px solid gray;flex-grow: 1;}#sk-container-id-4 div.sk-label:hover label.sk-toggleable__label {background-color: #d4ebff;}#sk-container-id-4 div.sk-serial::before {content: \"\";position: absolute;border-left: 1px solid gray;box-sizing: border-box;top: 0;bottom: 0;left: 50%;z-index: 0;}#sk-container-id-4 div.sk-serial {display: flex;flex-direction: column;align-items: center;background-color: white;padding-right: 0.2em;padding-left: 0.2em;position: relative;}#sk-container-id-4 div.sk-item {position: relative;z-index: 1;}#sk-container-id-4 div.sk-parallel {display: flex;align-items: stretch;justify-content: center;background-color: white;position: relative;}#sk-container-id-4 div.sk-item::before, #sk-container-id-4 div.sk-parallel-item::before {content: \"\";position: absolute;border-left: 1px solid gray;box-sizing: border-box;top: 0;bottom: 0;left: 50%;z-index: -1;}#sk-container-id-4 div.sk-parallel-item {display: flex;flex-direction: column;z-index: 1;position: relative;background-color: white;}#sk-container-id-4 div.sk-parallel-item:first-child::after {align-self: flex-end;width: 50%;}#sk-container-id-4 div.sk-parallel-item:last-child::after {align-self: flex-start;width: 50%;}#sk-container-id-4 div.sk-parallel-item:only-child::after {width: 0;}#sk-container-id-4 div.sk-dashed-wrapped {border: 1px dashed gray;margin: 0 0.4em 0.5em 0.4em;box-sizing: border-box;padding-bottom: 0.4em;background-color: white;}#sk-container-id-4 div.sk-label label {font-family: monospace;font-weight: bold;display: inline-block;line-height: 1.2em;}#sk-container-id-4 div.sk-label-container {text-align: center;}#sk-container-id-4 div.sk-container {/* jupyter's `normalize.less` sets `[hidden] { display: none; }` but bootstrap.min.css set `[hidden] { display: none !important; }` so we also need the `!important` here to be able to override the default hidden behavior on the sphinx rendered scikit-learn.org. See: https://github.com/scikit-learn/scikit-learn/issues/21755 */display: inline-block !important;position: relative;}#sk-container-id-4 div.sk-text-repr-fallback {display: none;}</style><div id=\"sk-container-id-4\" class=\"sk-top-container\"><div class=\"sk-text-repr-fallback\"><pre>SVC()</pre><b>In a Jupyter environment, please rerun this cell to show the HTML representation or trust the notebook. <br />On GitHub, the HTML representation is unable to render, please try loading this page with nbviewer.org.</b></div><div class=\"sk-container\" hidden><div class=\"sk-item\"><div class=\"sk-estimator sk-toggleable\"><input class=\"sk-toggleable__control sk-hidden--visually\" id=\"sk-estimator-id-4\" type=\"checkbox\" checked><label for=\"sk-estimator-id-4\" class=\"sk-toggleable__label sk-toggleable__label-arrow\">SVC</label><div class=\"sk-toggleable__content\"><pre>SVC()</pre></div></div></div></div></div>"
      ],
      "text/plain": [
       "SVC()"
      ]
     },
     "execution_count": 33,
     "metadata": {},
     "output_type": "execute_result"
    }
   ],
   "source": [
    "# Perform classification with SVM, kernel=rbf\n",
    "SVM = svm.SVC(kernel='rbf')\n",
    "SVM.fit(x_train, y_train)\n"
   ]
  },
  {
   "cell_type": "code",
   "execution_count": 34,
   "id": "c247189f",
   "metadata": {},
   "outputs": [],
   "source": [
    "\n",
    "\n",
    "# prediction \n",
    "predicted_svm = SVM.predict(x_test)\n",
    "\n",
    "# Score\n",
    "SVM_score = SVM.score(x_test, y_test)\n",
    "\n",
    "\n",
    "\n",
    "accuracy_score_svm =metrics.accuracy_score(y_test, predicted_svm)\n",
    "confusion_matric_svm = metrics.confusion_matrix(y_test, predicted_svm)\n",
    "classification_score_svm = metrics.classification_report(y_test, predicted_svm)\n",
    "precission_score_svm = metrics.precision_score(y_test, predicted_svm)\n",
    "recall_score_svm = metrics.recall_score(y_test, predicted_svm)\n"
   ]
  },
  {
   "cell_type": "code",
   "execution_count": 35,
   "id": "c84078a0",
   "metadata": {},
   "outputs": [
    {
     "name": "stdout",
     "output_type": "stream",
     "text": [
      "0.8606382978723405\n",
      "0.8606382978723405\n",
      "[[ 433  235]\n",
      " [  27 1185]]\n",
      "              precision    recall  f1-score   support\n",
      "\n",
      "           0       0.94      0.65      0.77       668\n",
      "           1       0.83      0.98      0.90      1212\n",
      "\n",
      "    accuracy                           0.86      1880\n",
      "   macro avg       0.89      0.81      0.83      1880\n",
      "weighted avg       0.87      0.86      0.85      1880\n",
      "\n",
      "0.8345070422535211\n",
      "0.9777227722772277\n"
     ]
    }
   ],
   "source": [
    "print(SVM_score)\n",
    "print(accuracy_score_svm)\n",
    "print(confusion_matric_svm)\n",
    "print(classification_score_svm)\n",
    "print(precission_score_svm)\n",
    "print(recall_score_svm)\n"
   ]
  },
  {
   "cell_type": "code",
   "execution_count": 36,
   "id": "4450f129",
   "metadata": {},
   "outputs": [
    {
     "data": {
      "text/plain": [
       "Text(50.722222222222214, 0.5, 'y_pred')"
      ]
     },
     "execution_count": 36,
     "metadata": {},
     "output_type": "execute_result"
    },
    {
     "data": {
      "image/png": "[encoded data removed]",
      "text/plain": [
       "<Figure size 640x480 with 2 Axes>"
      ]
     },
     "metadata": {},
     "output_type": "display_data"
    }
   ],
   "source": [
    "cm_svm=confusion_matrix(y_test,predicted_svm)\n",
    "ax_svm=sns.heatmap(cm_svm,annot=True,cmap='Blues',fmt=' ')\n",
    "ax_svm.set_title('Confusion Matrix svm with tf-idf')\n",
    "ax_svm.set_xlabel('y_test')\n",
    "ax_svm.set_ylabel('y_pred')"
   ]
  },
  {
   "cell_type": "markdown",
   "id": "885bfd74",
   "metadata": {},
   "source": [
    "## TF-IDF RandomForestClassifier"
   ]
  },
  {
   "cell_type": "code",
   "execution_count": 37,
   "id": "eeba1fb0",
   "metadata": {},
   "outputs": [],
   "source": [
    "# creating a RF classifier\n",
    "RandomForest = RandomForestClassifier(n_estimators = 1000, n_jobs=-1)\n",
    "RandomForest = RandomForest.fit(x_train, y_train)\n",
    "\n"
   ]
  },
  {
   "cell_type": "code",
   "execution_count": 38,
   "id": "021c0744",
   "metadata": {},
   "outputs": [],
   "source": [
    "\n",
    "# prediction \n",
    "predicted_rf = RandomForest.predict(x_test)\n",
    "\n",
    "# Score\n",
    "RF_score_rf = RandomForest.score(x_test, y_test)\n",
    "\n",
    "accuracy_score_rf=metrics.accuracy_score(y_test, predicted_rf)\n",
    "confusion_matric_rf = metrics.confusion_matrix(y_test, predicted_rf)\n",
    "classification_score_rf = metrics.classification_report(y_test, predicted_rf)\n",
    "precission_score_rf = metrics.precision_score(y_test, predicted_rf)\n",
    "recall_score_rf= metrics.recall_score(y_test, predicted_rf)"
   ]
  },
  {
   "cell_type": "code",
   "execution_count": 39,
   "id": "e925bf3d",
   "metadata": {},
   "outputs": [
    {
     "name": "stdout",
     "output_type": "stream",
     "text": [
      "0.8659574468085106\n",
      "0.8659574468085106\n",
      "[[ 478  190]\n",
      " [  62 1150]]\n",
      "              precision    recall  f1-score   support\n",
      "\n",
      "           0       0.89      0.72      0.79       668\n",
      "           1       0.86      0.95      0.90      1212\n",
      "\n",
      "    accuracy                           0.87      1880\n",
      "   macro avg       0.87      0.83      0.85      1880\n",
      "weighted avg       0.87      0.87      0.86      1880\n",
      "\n",
      "0.8582089552238806\n",
      "0.9488448844884488\n"
     ]
    }
   ],
   "source": [
    "print(RF_score_rf)\n",
    "print(accuracy_score_rf)\n",
    "print(confusion_matric_rf)\n",
    "print(classification_score_rf)\n",
    "print(precission_score_rf)\n",
    "print(recall_score_rf)"
   ]
  },
  {
   "cell_type": "code",
   "execution_count": 41,
   "id": "90eaf15b",
   "metadata": {},
   "outputs": [
    {
     "data": {
      "text/plain": [
       "Text(50.722222222222214, 0.5, 'y_pred')"
      ]
     },
     "execution_count": 41,
     "metadata": {},
     "output_type": "execute_result"
    },
    {
     "data": {
      "image/png": "[encoded data removed]",
      "text/plain": [
       "<Figure size 640x480 with 2 Axes>"
      ]
     },
     "metadata": {},
     "output_type": "display_data"
    }
   ],
   "source": [
    "cm_rf=confusion_matrix(y_test,predicted_rf)\n",
    "ax_rf=sns.heatmap(cm_rf,annot=True,cmap='Blues',fmt=' ')\n",
    "ax_rf.set_title('Confusion Matrix RandomForest with tf-idf')\n",
    "ax_rf.set_xlabel('y_test')\n",
    "ax_rf.set_ylabel('y_pred')"
   ]
  }
 ],
 "metadata": {
  "kernelspec": {
   "display_name": "workingKernel",
   "language": "python",
   "name": "workingkernel"
  },
  "language_info": {
   "codemirror_mode": {
    "name": "ipython",
    "version": 3
   },
   "file_extension": ".py",
   "mimetype": "text/x-python",
   "name": "python",
   "nbconvert_exporter": "python",
   "pygments_lexer": "ipython3",
   "version": "3.9.5"
  }
 },
 "nbformat": 4,
 "nbformat_minor": 5
}
