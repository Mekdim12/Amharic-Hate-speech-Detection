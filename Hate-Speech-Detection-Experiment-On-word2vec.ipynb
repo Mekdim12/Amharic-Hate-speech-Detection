{
 "cells": [
  {
   "cell_type": "code",
   "execution_count": 37,
   "id": "690f1cd8",
   "metadata": {},
   "outputs": [
    {
     "name": "stderr",
     "output_type": "stream",
     "text": [
      "[nltk_data] Downloading package punkt to\n",
      "[nltk_data]     C:\\Users\\MekdimTamirat\\AppData\\Roaming\\nltk_data...\n",
      "[nltk_data]   Package punkt is already up-to-date!\n"
     ]
    },
    {
     "data": {
      "text/plain": [
       "True"
      ]
     },
     "execution_count": 37,
     "metadata": {},
     "output_type": "execute_result"
    }
   ],
   "source": [
    "import pandas as pd\n",
    "import re\n",
    "import numpy as np\n",
    "from nltk.tokenize import word_tokenize\n",
    "from gensim.models import Word2Vec\n",
    "from tensorflow.keras.preprocessing.text import Tokenizer\n",
    "#from tensorflow.keras.utils import np_utils\n",
    "from sklearn.manifold import TSNE\n",
    "from sklearn.model_selection import train_test_split\n",
    "from sklearn import tree\n",
    "from tensorflow.keras.preprocessing import sequence\n",
    "from sklearn.ensemble import RandomForestClassifier\n",
    "from sklearn.preprocessing import LabelEncoder\n",
    "from sklearn.naive_bayes import MultinomialNB\n",
    "from sklearn.metrics import classification_report, confusion_matrix\n",
    "import seaborn as sns\n",
    "from matplotlib import pyplot as plt\n",
    "from sklearn import metrics\n",
    "from sklearn.svm import SVC\n",
    "from sklearn import svm\n",
    "import nltk\n",
    "nltk.download('punkt')"
   ]
  },
  {
   "cell_type": "markdown",
   "id": "b15ea969",
   "metadata": {},
   "source": [
    "# loading the dataset"
   ]
  },
  {
   "cell_type": "code",
   "execution_count": 38,
   "id": "6a6e99fa",
   "metadata": {},
   "outputs": [],
   "source": [
    "HSD_data = pd.read_csv('C:/Users/MekdimTamirat/Documents/Active Projects/hateSpeechDetectionOnSocailMedia/data_HSD_final.csv')\n",
    "HSD_data.columns = ['Text', 'Catagory'] # give column names\n"
   ]
  },
  {
   "cell_type": "code",
   "execution_count": 39,
   "id": "8f5c11f3",
   "metadata": {},
   "outputs": [
    {
     "data": {
      "text/html": [
       "<div>\n",
       "<style scoped>\n",
       "    .dataframe tbody tr th:only-of-type {\n",
       "        vertical-align: middle;\n",
       "    }\n",
       "\n",
       "    .dataframe tbody tr th {\n",
       "        vertical-align: top;\n",
       "    }\n",
       "\n",
       "    .dataframe thead th {\n",
       "        text-align: right;\n",
       "    }\n",
       "</style>\n",
       "<table border=\"1\" class=\"dataframe\">\n",
       "  <thead>\n",
       "    <tr style=\"text-align: right;\">\n",
       "      <th></th>\n",
       "      <th>Text</th>\n",
       "      <th>Catagory</th>\n",
       "    </tr>\n",
       "  </thead>\n",
       "  <tbody>\n",
       "    <tr>\n",
       "      <th>9394</th>\n",
       "      <td>ይህ ቆሻሻ መንግስት ህዝብ አስጨረሰ እባካችሁ ለዚህ የዋህ ሚስኪን ህዝብ/...</td>\n",
       "      <td>hate-speech</td>\n",
       "    </tr>\n",
       "    <tr>\n",
       "      <th>9395</th>\n",
       "      <td>ሀሀሀሀሀሀሀሀ አበረ አዳሙ የአንተን በደል ጊዜ ይመልሰው</td>\n",
       "      <td>hate-speech</td>\n",
       "    </tr>\n",
       "    <tr>\n",
       "      <th>9396</th>\n",
       "      <td>እስክንድር ጋ ተገናኝ የአአ መሪ እሱ ነው ታኬ ህገወጥ ነው!!</td>\n",
       "      <td>hate-speech</td>\n",
       "    </tr>\n",
       "    <tr>\n",
       "      <th>9397</th>\n",
       "      <td>ፎቶ ብቻ ጉራ ብቻ መጀመሪያ የ አ.አ ልጆችን ፍታ</td>\n",
       "      <td>hate-speech</td>\n",
       "    </tr>\n",
       "    <tr>\n",
       "      <th>9398</th>\n",
       "      <td>የኦርቶዶክስ እያፈረሱ የሌላን ይገነባሉ ድሮም ሴጣን ቤቱን ለማደስ ይሮጣል...</td>\n",
       "      <td>hate-speech</td>\n",
       "    </tr>\n",
       "  </tbody>\n",
       "</table>\n",
       "</div>"
      ],
      "text/plain": [
       "                                                   Text     Catagory\n",
       "9394  ይህ ቆሻሻ መንግስት ህዝብ አስጨረሰ እባካችሁ ለዚህ የዋህ ሚስኪን ህዝብ/...  hate-speech\n",
       "9395                ሀሀሀሀሀሀሀሀ አበረ አዳሙ የአንተን በደል ጊዜ ይመልሰው  hate-speech\n",
       "9396            እስክንድር ጋ ተገናኝ የአአ መሪ እሱ ነው ታኬ ህገወጥ ነው!!  hate-speech\n",
       "9397                    ፎቶ ብቻ ጉራ ብቻ መጀመሪያ የ አ.አ ልጆችን ፍታ  hate-speech\n",
       "9398  የኦርቶዶክስ እያፈረሱ የሌላን ይገነባሉ ድሮም ሴጣን ቤቱን ለማደስ ይሮጣል...  hate-speech"
      ]
     },
     "execution_count": 39,
     "metadata": {},
     "output_type": "execute_result"
    }
   ],
   "source": [
    "HSD_data.head()\n",
    "HSD_data.tail()"
   ]
  },
  {
   "cell_type": "markdown",
   "id": "aa482db9",
   "metadata": {},
   "source": [
    "# displaying with histogram the two node values"
   ]
  },
  {
   "cell_type": "code",
   "execution_count": 40,
   "id": "6373eeea",
   "metadata": {
    "scrolled": true
   },
   "outputs": [
    {
     "data": {
      "image/png": "[encoded data removed]",
      "text/plain": [
       "<Figure size 700x300 with 1 Axes>"
      ]
     },
     "metadata": {},
     "output_type": "display_data"
    }
   ],
   "source": [
    "# Creating histogram\n",
    "fig, ax = plt.subplots(figsize =(7, 3))\n",
    "ax.hist(HSD_data['Catagory'])\n",
    " \n",
    "# Show plot\n",
    "plt.show()\n",
    "\n",
    "\n",
    "# --------  ignoring the fact that the datas are unbalanced !!! ------------"
   ]
  },
  {
   "cell_type": "markdown",
   "id": "faed6ff3",
   "metadata": {},
   "source": [
    "# pre-processing the data\n"
   ]
  },
  {
   "cell_type": "markdown",
   "id": "9102740b",
   "metadata": {},
   "source": [
    "### Step -1 "
   ]
  },
  {
   "cell_type": "code",
   "execution_count": 41,
   "id": "bab25a8b",
   "metadata": {},
   "outputs": [],
   "source": [
    "words = HSD_data['Text']\n",
    "finalWords = []\n",
    "for word in words:\n",
    "    \n",
    "    word = word.strip() # removing the uncessary word whitespaces\n",
    "    \n",
    "    #remove any non-alphanumeric character\n",
    "    word = re.sub(r'\\W', ' ', str(word))\n",
    "    \n",
    "    #remove any digit\n",
    "    word = re.sub(\"(\\\\d)+\",\" \",word)\n",
    "    \n",
    "    #remove punctuation \n",
    "    word = re.sub(\",#'!:;\",\" \",word)\n",
    "    \n",
    "    #remove any latin characters \n",
    "    word = re.sub(r'[a-zA-Z]+', '', word)\n",
    "\n",
    "    word = re.sub('\\s+', ' ', word)  # remove extra whitespace\n",
    "    finalWords.append(word)\n",
    "\n"
   ]
  },
  {
   "cell_type": "markdown",
   "id": "61445d2e",
   "metadata": {},
   "source": [
    "###  step -2 "
   ]
  },
  {
   "cell_type": "code",
   "execution_count": 42,
   "id": "0c08fbd5",
   "metadata": {},
   "outputs": [],
   "source": [
    "tokenizedList = []\n",
    "for lineWord in finalWords:\n",
    "    separatedWords = lineWord.split(' ')\n",
    "    word = [word for word in separatedWords if   word.strip() != '']\n",
    "    tokenizedList.append(word)\n",
    "    "
   ]
  },
  {
   "cell_type": "markdown",
   "id": "e84cc8f5",
   "metadata": {},
   "source": [
    "### step -3"
   ]
  },
  {
   "cell_type": "code",
   "execution_count": 43,
   "id": "16f2c00d",
   "metadata": {},
   "outputs": [],
   "source": [
    "# list amharic stop words\n",
    "stopwords=['ነው', 'እና', 'እኔ', 'የእኔ','እኔ','ራሴ','እኛ','የእኛ','እኛ','ራሳችን','አንቺ' ,'የእርስዎ' ,'እራስዎ','እራሳችሁን','የእሱ',\n",
    "           'እሱ','እ','ራሱ','እሷ' 'ራሷን','እሱ','በራሱ','እነሱ','የእነሱ','እራሳቸው','ምንድን','የት','ማን','ይሄ','ያንን','እነዚህ','እነዚያ'\n",
    "           ,'ነው','እነዚህ','ናቸው','ነበር','ነበሩ','መሆን','ሆኗል','መሆን','አለ','ነበሩ','አለው','መስራት','ያደርገዋል','አደረጉት',\n",
    "           'ማድረግ','እና','ግን','ከሆነ','ወይም','ምክንያቱም','እንደ','እስከ','ገና','የ','ለ','ከ','ጋር','ስለ','መካከል','ውስጥ',\n",
    "           'ከዚህ','በፊት','በኋላ','ከላይ','ከታች','ወደ','ከ','ወደ','ላይ','ታች','ውስጥ','ውጭ','በላይ','በታች','በድጋሚ','እናስ','እናም']\n",
    "\n",
    "           \n",
    "cleanedWordsList= []\n",
    "for lineWords in tokenizedList:\n",
    "    tempList = []\n",
    "    for word in lineWords:\n",
    "        if word.strip() not in stopwords:\n",
    "            tempList.append(word)\n",
    "    cleanedWordsList.append(tempList)\n",
    "    \n",
    "        "
   ]
  },
  {
   "cell_type": "markdown",
   "id": "c2bbd56e",
   "metadata": {},
   "source": [
    "### Step -4 "
   ]
  },
  {
   "cell_type": "code",
   "execution_count": 44,
   "id": "e618e5d3",
   "metadata": {},
   "outputs": [],
   "source": [
    "# for the time being this is fine but convert it to something good but not this at all\n",
    "\n",
    "normalizedSenteces = []\n",
    "for linesWords in cleanedWordsList:\n",
    "    tempList = []\n",
    "    for word in linesWords:\n",
    "        \n",
    "        word = re.sub(\"ሐ\",\"ሀ\",word)\n",
    "        word = re.sub(\"ሑ\",\"ሁ\",word)\n",
    "        word = re.sub(\"ሒ\",\"ሂ\",word)\n",
    "        word = re.sub(\"ሓ\",\"ሃ\",word)\n",
    "        word = re.sub(\"ሔ\",\"ሄ\",word)\n",
    "        word = re.sub(\"ሕ\",\"ህ\",word)\n",
    "        word = re.sub(\"ሖ\",\"ሆ\",word)\n",
    "        \n",
    "        word = re.sub(\"ኀ\",\"ሀ\",word)\n",
    "        word = re.sub(\"ኁ\",\"ሁ\",word)\n",
    "        word = re.sub(\"ኂ\",\"ሂ\",word)\n",
    "        word = re.sub(\"ኃ\",\"ሃ\",word)\n",
    "        word = re.sub(\"ኄ\",\"ሄ\",word)\n",
    "        word = re.sub(\"ኅ\",\"ህ\",word)\n",
    "        word = re.sub(\"ኆ\",\"ሆ\",word)\n",
    "        \n",
    "        word = re.sub(\"ሠ\",\"ሰ\",word)\n",
    "        word = re.sub(\"ሡ\",\"ሱ\",word)\n",
    "        word = re.sub(\"ሢ\",\"ሲ\",word)\n",
    "        word = re.sub(\"ሣ\",\"ሳ\",word)\n",
    "        word = re.sub(\"ሤ\",\"ሴ\",word)\n",
    "        word = re.sub(\"ሥ\",\"ስ\",word)\n",
    "        word = re.sub(\"ሦ\",\"ሶ\",word)\n",
    "        \n",
    "        word = re.sub(\"ዐ\",\"አ\",word)\n",
    "        word = re.sub(\"ዑ\",\"ኡ\",word)\n",
    "        word = re.sub(\"ዒ\",\"ኢ\",word)\n",
    "        word = re.sub(\"ዓ\",\"ኣ\",word)\n",
    "        word = re.sub(\"ዔ\",\"ኤ\",word)\n",
    "        word = re.sub(\"ዕ\",\"እ\",word)\n",
    "        word = re.sub(\"ዖ\",\"ኦ\",word)\n",
    "        \n",
    "        word = re.sub(\"ዐ\",\"አ\",word)\n",
    "        word = re.sub(\"ዑ\",\"ኡ\",word)\n",
    "        word = re.sub(\"ዒ\",\"ኢ\",word)\n",
    "        word = re.sub(\"ዓ\",\"ኣ\",word)\n",
    "        word = re.sub(\"ዔ\",\"ኤ\",word)\n",
    "        word = re.sub(\"ዕ\",\"እ\",word)\n",
    "        word = re.sub(\"ዖ\",\"ኦ\",word)\n",
    "        \n",
    "        word = re.sub(\"ጸ\",\"ፀ\",word)\n",
    "        word = re.sub(\"ጹ\",\"ፁ\",word)\n",
    "        word = re.sub(\"ጺ\",\"ፂ\",word)\n",
    "        word = re.sub(\"ጻ\",\"ፃ\",word)\n",
    "        word = re.sub(\"ጼ\",\"ፄ\",word)\n",
    "        word = re.sub(\"ጽ\",\"ፅ\",word)\n",
    "        word = re.sub(\"ጾ\",\"ፆ\",word)\n",
    "        \n",
    "        tempList.append(word)\n",
    "    normalizedSenteces.append(tempList)\n",
    "               "
   ]
  },
  {
   "cell_type": "code",
   "execution_count": 45,
   "id": "f3e47e5a",
   "metadata": {},
   "outputs": [],
   "source": [
    "HSD_data['Catagory'] = HSD_data.Catagory.map({'Non-Hate':1,'hate-speech':0})"
   ]
  },
  {
   "cell_type": "code",
   "execution_count": 46,
   "id": "bfc8c976",
   "metadata": {},
   "outputs": [],
   "source": [
    "# Split into training and testing data\n",
    "x = HSD_data['Text']\n",
    "y = HSD_data['Catagory']\n"
   ]
  },
  {
   "cell_type": "markdown",
   "id": "a9748f27",
   "metadata": {},
   "source": [
    "# Word2Vec Vectorizer"
   ]
  },
  {
   "cell_type": "code",
   "execution_count": 47,
   "id": "a3767d7f",
   "metadata": {},
   "outputs": [],
   "source": [
    "# Create w2v\n",
    "import os\n",
    "numberofAvailCpu = os.cpu_count()      \n",
    "\n",
    "w2v = Word2Vec(sentences = normalizedSenteces,\n",
    "                    vector_size= 300, \n",
    "                    window = 10,\n",
    "                    min_count = 2,\n",
    "                    workers = numberofAvailCpu,\n",
    "                    epochs = 15\n",
    "              ) \n"
   ]
  },
  {
   "cell_type": "code",
   "execution_count": 48,
   "id": "da498698",
   "metadata": {},
   "outputs": [
    {
     "name": "stdout",
     "output_type": "stream",
     "text": [
      "Shape of embedding matrix :  (13556, 300)\n",
      "Found 27963 unique tokens.\n",
      "Preparing embedding matrix\n",
      "Null word embeddings: 14408\n"
     ]
    },
    {
     "name": "stderr",
     "output_type": "stream",
     "text": [
      "C:\\Users\\MekdimTamirat\\AppData\\Local\\Temp\\ipykernel_12836\\1424927441.py:26: DeprecationWarning: Call to deprecated `word_vec` (Use get_vector instead).\n",
      "  embedding_matrix[i] = w2v.wv.word_vec(word)\n"
     ]
    }
   ],
   "source": [
    "#.....................Sequence Padding...........................\n",
    "# Get w2v embedding matrix\n",
    "embedding_matrix = w2v.wv.vectors  # embedding matrix, type = numpy.ndarray \n",
    "print(\"Shape of embedding matrix : \", embedding_matrix.shape) #(volcabulary size, embedding dimension)\n",
    "#print(\"feature vector of the first word in the volcabulary list: \\n\", w2v.wv.vectors[0]) \n",
    "\n",
    "top_words = embedding_matrix.shape[0]\n",
    "MAX_SEQUENCE_LENGTH = 200 #max lenght of sentence\n",
    "\n",
    "\n",
    "tokenizer_obj = Tokenizer(num_words=top_words)\n",
    "tokenizer_obj.fit_on_texts(normalizedSenteces)\n",
    "sequences = tokenizer_obj.texts_to_sequences(normalizedSenteces)\n",
    "\n",
    "word_index = tokenizer_obj.word_index\n",
    "print('Found %s unique tokens.' % len(word_index))\n",
    "#print(word_index)\n",
    "\n",
    "SentData_pad = sequence.pad_sequences(sequences,maxlen = MAX_SEQUENCE_LENGTH)\n",
    "\n",
    "print('Preparing embedding matrix')\n",
    "nb_words = len(word_index)+1\n",
    "embedding_matrix = np.zeros((nb_words, 300))\n",
    "for word, i in word_index.items():\n",
    "    if word in w2v.wv.key_to_index: # the word2vec model\n",
    "        embedding_matrix[i] = w2v.wv.word_vec(word)\n",
    "print('Null word embeddings: %d' % np.sum(np.sum(embedding_matrix, axis=1) == 0))"
   ]
  },
  {
   "cell_type": "code",
   "execution_count": 49,
   "id": "94d7ead0",
   "metadata": {},
   "outputs": [
    {
     "data": {
      "text/plain": [
       "{0: 0, 1: 1}"
      ]
     },
     "execution_count": 49,
     "metadata": {},
     "output_type": "execute_result"
    }
   ],
   "source": [
    "#encode the class attribute\n",
    "y = np.asarray(HSD_data['Catagory'])\n",
    "label_map = {cat:index for index,cat in enumerate(np.unique(y))}\n",
    "y_prep = np.asarray([label_map[l] for l in y])\n",
    "\n",
    "# Non-Hate':1, 'hate-speech' :  0\n",
    "label_map"
   ]
  },
  {
   "cell_type": "code",
   "execution_count": 50,
   "id": "60febba8",
   "metadata": {},
   "outputs": [
    {
     "name": "stdout",
     "output_type": "stream",
     "text": [
      "X_train shape: (7519, 200)\n",
      "X_test shape: (1880, 200)\n",
      "y_train shape: (7519,)\n",
      "y_test shape: (1880,)\n"
     ]
    }
   ],
   "source": [
    "#............split dataset into traning and test data...........................\n",
    "x_train_pad, x_test_pad, y_train, y_test = train_test_split(SentData_pad, y_prep, test_size=0.20, random_state=42)\n",
    "\n",
    "print('X_train shape:', x_train_pad.shape)\n",
    "print('X_test shape:', x_test_pad.shape)\n",
    "print('y_train shape:', y_train.shape) \n",
    "print('y_test shape:', y_test.shape) "
   ]
  },
  {
   "cell_type": "markdown",
   "id": "271a442b",
   "metadata": {},
   "source": [
    "## SVM with Word2vec "
   ]
  },
  {
   "cell_type": "code",
   "execution_count": 51,
   "id": "39621b90",
   "metadata": {},
   "outputs": [
    {
     "data": {
      "text/html": [
       "<style>#sk-container-id-3 {color: black;background-color: white;}#sk-container-id-3 pre{padding: 0;}#sk-container-id-3 div.sk-toggleable {background-color: white;}#sk-container-id-3 label.sk-toggleable__label {cursor: pointer;display: block;width: 100%;margin-bottom: 0;padding: 0.3em;box-sizing: border-box;text-align: center;}#sk-container-id-3 label.sk-toggleable__label-arrow:before {content: \"▸\";float: left;margin-right: 0.25em;color: #696969;}#sk-container-id-3 label.sk-toggleable__label-arrow:hover:before {color: black;}#sk-container-id-3 div.sk-estimator:hover label.sk-toggleable__label-arrow:before {color: black;}#sk-container-id-3 div.sk-toggleable__content {max-height: 0;max-width: 0;overflow: hidden;text-align: left;background-color: #f0f8ff;}#sk-container-id-3 div.sk-toggleable__content pre {margin: 0.2em;color: black;border-radius: 0.25em;background-color: #f0f8ff;}#sk-container-id-3 input.sk-toggleable__control:checked~div.sk-toggleable__content {max-height: 200px;max-width: 100%;overflow: auto;}#sk-container-id-3 input.sk-toggleable__control:checked~label.sk-toggleable__label-arrow:before {content: \"▾\";}#sk-container-id-3 div.sk-estimator input.sk-toggleable__control:checked~label.sk-toggleable__label {background-color: #d4ebff;}#sk-container-id-3 div.sk-label input.sk-toggleable__control:checked~label.sk-toggleable__label {background-color: #d4ebff;}#sk-container-id-3 input.sk-hidden--visually {border: 0;clip: rect(1px 1px 1px 1px);clip: rect(1px, 1px, 1px, 1px);height: 1px;margin: -1px;overflow: hidden;padding: 0;position: absolute;width: 1px;}#sk-container-id-3 div.sk-estimator {font-family: monospace;background-color: #f0f8ff;border: 1px dotted black;border-radius: 0.25em;box-sizing: border-box;margin-bottom: 0.5em;}#sk-container-id-3 div.sk-estimator:hover {background-color: #d4ebff;}#sk-container-id-3 div.sk-parallel-item::after {content: \"\";width: 100%;border-bottom: 1px solid gray;flex-grow: 1;}#sk-container-id-3 div.sk-label:hover label.sk-toggleable__label {background-color: #d4ebff;}#sk-container-id-3 div.sk-serial::before {content: \"\";position: absolute;border-left: 1px solid gray;box-sizing: border-box;top: 0;bottom: 0;left: 50%;z-index: 0;}#sk-container-id-3 div.sk-serial {display: flex;flex-direction: column;align-items: center;background-color: white;padding-right: 0.2em;padding-left: 0.2em;position: relative;}#sk-container-id-3 div.sk-item {position: relative;z-index: 1;}#sk-container-id-3 div.sk-parallel {display: flex;align-items: stretch;justify-content: center;background-color: white;position: relative;}#sk-container-id-3 div.sk-item::before, #sk-container-id-3 div.sk-parallel-item::before {content: \"\";position: absolute;border-left: 1px solid gray;box-sizing: border-box;top: 0;bottom: 0;left: 50%;z-index: -1;}#sk-container-id-3 div.sk-parallel-item {display: flex;flex-direction: column;z-index: 1;position: relative;background-color: white;}#sk-container-id-3 div.sk-parallel-item:first-child::after {align-self: flex-end;width: 50%;}#sk-container-id-3 div.sk-parallel-item:last-child::after {align-self: flex-start;width: 50%;}#sk-container-id-3 div.sk-parallel-item:only-child::after {width: 0;}#sk-container-id-3 div.sk-dashed-wrapped {border: 1px dashed gray;margin: 0 0.4em 0.5em 0.4em;box-sizing: border-box;padding-bottom: 0.4em;background-color: white;}#sk-container-id-3 div.sk-label label {font-family: monospace;font-weight: bold;display: inline-block;line-height: 1.2em;}#sk-container-id-3 div.sk-label-container {text-align: center;}#sk-container-id-3 div.sk-container {/* jupyter's `normalize.less` sets `[hidden] { display: none; }` but bootstrap.min.css set `[hidden] { display: none !important; }` so we also need the `!important` here to be able to override the default hidden behavior on the sphinx rendered scikit-learn.org. See: https://github.com/scikit-learn/scikit-learn/issues/21755 */display: inline-block !important;position: relative;}#sk-container-id-3 div.sk-text-repr-fallback {display: none;}</style><div id=\"sk-container-id-3\" class=\"sk-top-container\"><div class=\"sk-text-repr-fallback\"><pre>SVC()</pre><b>In a Jupyter environment, please rerun this cell to show the HTML representation or trust the notebook. <br />On GitHub, the HTML representation is unable to render, please try loading this page with nbviewer.org.</b></div><div class=\"sk-container\" hidden><div class=\"sk-item\"><div class=\"sk-estimator sk-toggleable\"><input class=\"sk-toggleable__control sk-hidden--visually\" id=\"sk-estimator-id-3\" type=\"checkbox\" checked><label for=\"sk-estimator-id-3\" class=\"sk-toggleable__label sk-toggleable__label-arrow\">SVC</label><div class=\"sk-toggleable__content\"><pre>SVC()</pre></div></div></div></div></div>"
      ],
      "text/plain": [
       "SVC()"
      ]
     },
     "execution_count": 51,
     "metadata": {},
     "output_type": "execute_result"
    }
   ],
   "source": [
    "# Perform classification with SVM, kernel=rbf\n",
    "SVM = svm.SVC(kernel='rbf')\n",
    "SVM.fit(x_train_pad, y_train)\n"
   ]
  },
  {
   "cell_type": "markdown",
   "id": "02b320da",
   "metadata": {},
   "source": [
    "#### predicting the and getting necessary accurracy -- svm\n"
   ]
  },
  {
   "cell_type": "code",
   "execution_count": 52,
   "id": "c0aabda1",
   "metadata": {},
   "outputs": [],
   "source": [
    "# prediction \n",
    "predicted_svm = SVM.predict(x_test_pad)\n",
    "\n",
    "# Score\n",
    "SVM_score = SVM.score(x_test_pad, y_test)\n",
    "\n",
    "accuracy_score_svm =metrics.accuracy_score(y_test, predicted_svm)\n",
    "confusion_matric_svm = metrics.confusion_matrix(y_test, predicted_svm)\n",
    "classification_score_svm = metrics.classification_report(y_test, predicted_svm)\n",
    "precission_score_svm = metrics.precision_score(y_test, predicted_svm)\n",
    "recall_score_svm = metrics.recall_score(y_test, predicted_svm)"
   ]
  },
  {
   "cell_type": "code",
   "execution_count": 53,
   "id": "aaa554a4",
   "metadata": {},
   "outputs": [
    {
     "name": "stdout",
     "output_type": "stream",
     "text": [
      "0.7797872340425532\n",
      "0.7797872340425532\n",
      "[[ 266  402]\n",
      " [  12 1200]]\n",
      "              precision    recall  f1-score   support\n",
      "\n",
      "           0       0.96      0.40      0.56       668\n",
      "           1       0.75      0.99      0.85      1212\n",
      "\n",
      "    accuracy                           0.78      1880\n",
      "   macro avg       0.85      0.69      0.71      1880\n",
      "weighted avg       0.82      0.78      0.75      1880\n",
      "\n",
      "0.7490636704119851\n",
      "0.9900990099009901\n"
     ]
    }
   ],
   "source": [
    "print(SVM_score)\n",
    "print(accuracy_score_svm)\n",
    "print(confusion_matric_svm)\n",
    "print(classification_score_svm)\n",
    "print(precission_score_svm)\n",
    "print(recall_score_svm)\n"
   ]
  },
  {
   "cell_type": "code",
   "execution_count": 54,
   "id": "97fd0b90",
   "metadata": {
    "scrolled": true
   },
   "outputs": [
    {
     "data": {
      "text/plain": [
       "Text(50.722222222222214, 0.5, 'y_pred')"
      ]
     },
     "execution_count": 54,
     "metadata": {},
     "output_type": "execute_result"
    },
    {
     "data": {
      "image/png": "[encoded data removed]",
      "text/plain": [
       "<Figure size 640x480 with 2 Axes>"
      ]
     },
     "metadata": {},
     "output_type": "display_data"
    }
   ],
   "source": [
    "cm_svm=confusion_matrix(y_test,predicted_svm)\n",
    "ax_svm=sns.heatmap(cm_svm,annot=True,cmap='Blues',fmt=' ')\n",
    "ax_svm.set_title('Confusion Matrix svm with word To Vector')\n",
    "ax_svm.set_xlabel('y_test')\n",
    "ax_svm.set_ylabel('y_pred')"
   ]
  },
  {
   "cell_type": "markdown",
   "id": "0f64463d",
   "metadata": {},
   "source": [
    "### Word To Vector WITH NAIVE BAYES"
   ]
  },
  {
   "cell_type": "code",
   "execution_count": 55,
   "id": "b7b6f8a0",
   "metadata": {},
   "outputs": [
    {
     "data": {
      "text/html": [
       "<style>#sk-container-id-4 {color: black;background-color: white;}#sk-container-id-4 pre{padding: 0;}#sk-container-id-4 div.sk-toggleable {background-color: white;}#sk-container-id-4 label.sk-toggleable__label {cursor: pointer;display: block;width: 100%;margin-bottom: 0;padding: 0.3em;box-sizing: border-box;text-align: center;}#sk-container-id-4 label.sk-toggleable__label-arrow:before {content: \"▸\";float: left;margin-right: 0.25em;color: #696969;}#sk-container-id-4 label.sk-toggleable__label-arrow:hover:before {color: black;}#sk-container-id-4 div.sk-estimator:hover label.sk-toggleable__label-arrow:before {color: black;}#sk-container-id-4 div.sk-toggleable__content {max-height: 0;max-width: 0;overflow: hidden;text-align: left;background-color: #f0f8ff;}#sk-container-id-4 div.sk-toggleable__content pre {margin: 0.2em;color: black;border-radius: 0.25em;background-color: #f0f8ff;}#sk-container-id-4 input.sk-toggleable__control:checked~div.sk-toggleable__content {max-height: 200px;max-width: 100%;overflow: auto;}#sk-container-id-4 input.sk-toggleable__control:checked~label.sk-toggleable__label-arrow:before {content: \"▾\";}#sk-container-id-4 div.sk-estimator input.sk-toggleable__control:checked~label.sk-toggleable__label {background-color: #d4ebff;}#sk-container-id-4 div.sk-label input.sk-toggleable__control:checked~label.sk-toggleable__label {background-color: #d4ebff;}#sk-container-id-4 input.sk-hidden--visually {border: 0;clip: rect(1px 1px 1px 1px);clip: rect(1px, 1px, 1px, 1px);height: 1px;margin: -1px;overflow: hidden;padding: 0;position: absolute;width: 1px;}#sk-container-id-4 div.sk-estimator {font-family: monospace;background-color: #f0f8ff;border: 1px dotted black;border-radius: 0.25em;box-sizing: border-box;margin-bottom: 0.5em;}#sk-container-id-4 div.sk-estimator:hover {background-color: #d4ebff;}#sk-container-id-4 div.sk-parallel-item::after {content: \"\";width: 100%;border-bottom: 1px solid gray;flex-grow: 1;}#sk-container-id-4 div.sk-label:hover label.sk-toggleable__label {background-color: #d4ebff;}#sk-container-id-4 div.sk-serial::before {content: \"\";position: absolute;border-left: 1px solid gray;box-sizing: border-box;top: 0;bottom: 0;left: 50%;z-index: 0;}#sk-container-id-4 div.sk-serial {display: flex;flex-direction: column;align-items: center;background-color: white;padding-right: 0.2em;padding-left: 0.2em;position: relative;}#sk-container-id-4 div.sk-item {position: relative;z-index: 1;}#sk-container-id-4 div.sk-parallel {display: flex;align-items: stretch;justify-content: center;background-color: white;position: relative;}#sk-container-id-4 div.sk-item::before, #sk-container-id-4 div.sk-parallel-item::before {content: \"\";position: absolute;border-left: 1px solid gray;box-sizing: border-box;top: 0;bottom: 0;left: 50%;z-index: -1;}#sk-container-id-4 div.sk-parallel-item {display: flex;flex-direction: column;z-index: 1;position: relative;background-color: white;}#sk-container-id-4 div.sk-parallel-item:first-child::after {align-self: flex-end;width: 50%;}#sk-container-id-4 div.sk-parallel-item:last-child::after {align-self: flex-start;width: 50%;}#sk-container-id-4 div.sk-parallel-item:only-child::after {width: 0;}#sk-container-id-4 div.sk-dashed-wrapped {border: 1px dashed gray;margin: 0 0.4em 0.5em 0.4em;box-sizing: border-box;padding-bottom: 0.4em;background-color: white;}#sk-container-id-4 div.sk-label label {font-family: monospace;font-weight: bold;display: inline-block;line-height: 1.2em;}#sk-container-id-4 div.sk-label-container {text-align: center;}#sk-container-id-4 div.sk-container {/* jupyter's `normalize.less` sets `[hidden] { display: none; }` but bootstrap.min.css set `[hidden] { display: none !important; }` so we also need the `!important` here to be able to override the default hidden behavior on the sphinx rendered scikit-learn.org. See: https://github.com/scikit-learn/scikit-learn/issues/21755 */display: inline-block !important;position: relative;}#sk-container-id-4 div.sk-text-repr-fallback {display: none;}</style><div id=\"sk-container-id-4\" class=\"sk-top-container\"><div class=\"sk-text-repr-fallback\"><pre>MultinomialNB()</pre><b>In a Jupyter environment, please rerun this cell to show the HTML representation or trust the notebook. <br />On GitHub, the HTML representation is unable to render, please try loading this page with nbviewer.org.</b></div><div class=\"sk-container\" hidden><div class=\"sk-item\"><div class=\"sk-estimator sk-toggleable\"><input class=\"sk-toggleable__control sk-hidden--visually\" id=\"sk-estimator-id-4\" type=\"checkbox\" checked><label for=\"sk-estimator-id-4\" class=\"sk-toggleable__label sk-toggleable__label-arrow\">MultinomialNB</label><div class=\"sk-toggleable__content\"><pre>MultinomialNB()</pre></div></div></div></div></div>"
      ],
      "text/plain": [
       "MultinomialNB()"
      ]
     },
     "execution_count": 55,
     "metadata": {},
     "output_type": "execute_result"
    }
   ],
   "source": [
    "model_NB = MultinomialNB()\n",
    "model_NB.fit(x_train_pad, y_train)"
   ]
  },
  {
   "cell_type": "markdown",
   "id": "3b596366",
   "metadata": {},
   "source": [
    "#### predicting the and getting necessary accurracy -- NB"
   ]
  },
  {
   "cell_type": "code",
   "execution_count": 56,
   "id": "9c694cfc",
   "metadata": {},
   "outputs": [],
   "source": [
    "# prediction \n",
    "predicted = model_NB.predict(x_test_pad)\n",
    "\n",
    "# Score\n",
    "nb_score = model_NB.score(x_test_pad, y_test)\n",
    "\n",
    "\n",
    "accuracy_score = metrics.accuracy_score(y_test, predicted)\n",
    "confusion_matric = metrics.confusion_matrix(y_test, predicted)\n",
    "classification_score = metrics.classification_report(y_test, predicted)\n",
    "precission_score = metrics.precision_score(y_test, predicted)\n",
    "recall_score = metrics.recall_score(y_test, predicted)\n"
   ]
  },
  {
   "cell_type": "code",
   "execution_count": 57,
   "id": "647be14c",
   "metadata": {},
   "outputs": [
    {
     "name": "stdout",
     "output_type": "stream",
     "text": [
      "0.6111702127659574\n",
      "0.6111702127659574\n",
      "[[  95  573]\n",
      " [ 158 1054]]\n",
      "              precision    recall  f1-score   support\n",
      "\n",
      "           0       0.38      0.14      0.21       668\n",
      "           1       0.65      0.87      0.74      1212\n",
      "\n",
      "    accuracy                           0.61      1880\n",
      "   macro avg       0.51      0.51      0.47      1880\n",
      "weighted avg       0.55      0.61      0.55      1880\n",
      "\n",
      "0.647818070067609\n",
      "0.8696369636963697\n",
      "\n"
     ]
    }
   ],
   "source": [
    "print(nb_score)\n",
    "print(accuracy_score)\n",
    "print(confusion_matric)\n",
    "print(classification_score)\n",
    "print(precission_score)\n",
    "print(recall_score)\n",
    "print()"
   ]
  },
  {
   "cell_type": "code",
   "execution_count": 58,
   "id": "af441c91",
   "metadata": {
    "scrolled": true
   },
   "outputs": [
    {
     "data": {
      "text/plain": [
       "Text(50.722222222222214, 0.5, 'y_pred')"
      ]
     },
     "execution_count": 58,
     "metadata": {},
     "output_type": "execute_result"
    },
    {
     "data": {
      "image/png": "[encoded data removed]",
      "text/plain": [
       "<Figure size 640x480 with 2 Axes>"
      ]
     },
     "metadata": {},
     "output_type": "display_data"
    }
   ],
   "source": [
    "cm=confusion_matrix(y_test,predicted)\n",
    "ax=sns.heatmap(cm,annot=True,cmap='Blues',fmt=' ')\n",
    "ax.set_title('Confusion Matrix word2vec with naive bayes')\n",
    "ax.set_xlabel('y_test')\n",
    "ax.set_ylabel('y_pred')"
   ]
  },
  {
   "cell_type": "markdown",
   "id": "588b9894",
   "metadata": {},
   "source": [
    "## TF-IDF RandomForestClassifier"
   ]
  },
  {
   "cell_type": "code",
   "execution_count": 59,
   "id": "1aabbf8a",
   "metadata": {},
   "outputs": [],
   "source": [
    "# creating a RF classifier\n",
    "RandomForest = RandomForestClassifier(n_estimators = 100, n_jobs=-1)\n",
    "RandomForest = RandomForest.fit(x_train_pad, y_train)"
   ]
  },
  {
   "cell_type": "code",
   "execution_count": 60,
   "id": "61e2522b",
   "metadata": {},
   "outputs": [],
   "source": [
    "\n",
    "# prediction \n",
    "predicted_rf = RandomForest.predict(x_test_pad)\n",
    "\n",
    "# Score\n",
    "RF_score_rf = RandomForest.score(x_test_pad, y_test)\n",
    "\n",
    "accuracy_score_rf=metrics.accuracy_score(y_test, predicted_rf)\n",
    "confusion_matric_rf = metrics.confusion_matrix(y_test, predicted_rf)\n",
    "classification_score_rf = metrics.classification_report(y_test, predicted_rf)\n",
    "precission_score_rf = metrics.precision_score(y_test, predicted_rf)\n",
    "recall_score_rf= metrics.recall_score(y_test, predicted_rf)"
   ]
  },
  {
   "cell_type": "code",
   "execution_count": 61,
   "id": "bc68ee93",
   "metadata": {},
   "outputs": [
    {
     "name": "stdout",
     "output_type": "stream",
     "text": [
      "0.877127659574468\n",
      "0.877127659574468\n",
      "[[ 484  184]\n",
      " [  47 1165]]\n",
      "              precision    recall  f1-score   support\n",
      "\n",
      "           0       0.91      0.72      0.81       668\n",
      "           1       0.86      0.96      0.91      1212\n",
      "\n",
      "    accuracy                           0.88      1880\n",
      "   macro avg       0.89      0.84      0.86      1880\n",
      "weighted avg       0.88      0.88      0.87      1880\n",
      "\n",
      "0.8636026686434396\n",
      "0.9612211221122112\n"
     ]
    }
   ],
   "source": [
    "print(RF_score_rf)\n",
    "print(accuracy_score_rf)\n",
    "print(confusion_matric_rf)\n",
    "print(classification_score_rf)\n",
    "print(precission_score_rf)\n",
    "print(recall_score_rf)"
   ]
  },
  {
   "cell_type": "code",
   "execution_count": 62,
   "id": "630915ec",
   "metadata": {},
   "outputs": [
    {
     "data": {
      "text/plain": [
       "Text(50.722222222222214, 0.5, 'y_pred')"
      ]
     },
     "execution_count": 62,
     "metadata": {},
     "output_type": "execute_result"
    },
    {
     "data": {
      "image/png": "[encoded data removed]",
      "text/plain": [
       "<Figure size 640x480 with 2 Axes>"
      ]
     },
     "metadata": {},
     "output_type": "display_data"
    }
   ],
   "source": [
    "cm_rf=confusion_matrix(y_test,predicted_rf)\n",
    "ax_rf=sns.heatmap(cm_rf,annot=True,cmap='Blues',fmt=' ')\n",
    "ax_rf.set_title('Confusion Matrix RandomForest with word2vec')\n",
    "ax_rf.set_xlabel('y_test')\n",
    "ax_rf.set_ylabel('y_pred')"
   ]
  },
  {
   "cell_type": "code",
   "execution_count": null,
   "id": "6aaa8eef",
   "metadata": {},
   "outputs": [],
   "source": []
  },
  {
   "cell_type": "code",
   "execution_count": null,
   "id": "a6f3e815",
   "metadata": {},
   "outputs": [],
   "source": []
  },
  {
   "cell_type": "code",
   "execution_count": null,
   "id": "a9ab2294",
   "metadata": {},
   "outputs": [],
   "source": []
  }
 ],
 "metadata": {
  "kernelspec": {
   "display_name": "workingKernel",
   "language": "python",
   "name": "workingkernel"
  },
  "language_info": {
   "codemirror_mode": {
    "name": "ipython",
    "version": 3
   },
   "file_extension": ".py",
   "mimetype": "text/x-python",
   "name": "python",
   "nbconvert_exporter": "python",
   "pygments_lexer": "ipython3",
   "version": "3.9.5"
  }
 },
 "nbformat": 4,
 "nbformat_minor": 5
}
