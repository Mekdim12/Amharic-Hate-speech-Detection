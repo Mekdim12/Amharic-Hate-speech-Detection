{
 "cells": [
  {
   "cell_type": "code",
   "execution_count": 1,
   "id": "7128d4e3",
   "metadata": {},
   "outputs": [
    {
     "name": "stderr",
     "output_type": "stream",
     "text": [
      "[nltk_data] Downloading package punkt to\n",
      "[nltk_data]     C:\\Users\\MekdimTamirat\\AppData\\Roaming\\nltk_data...\n",
      "[nltk_data]   Package punkt is already up-to-date!\n"
     ]
    },
    {
     "data": {
      "text/plain": [
       "True"
      ]
     },
     "execution_count": 1,
     "metadata": {},
     "output_type": "execute_result"
    }
   ],
   "source": [
    "import pandas as pd\n",
    "import re\n",
    "import numpy as np\n",
    "from nltk.tokenize import word_tokenize\n",
    "from gensim.models import Word2Vec\n",
    "from tensorflow.keras.preprocessing.text import Tokenizer\n",
    "#from tensorflow.keras.utils import np_utils\n",
    "from sklearn.manifold import TSNE\n",
    "from sklearn.model_selection import train_test_split\n",
    "from sklearn import tree\n",
    "from tensorflow.keras.preprocessing import sequence\n",
    "from sklearn.ensemble import RandomForestClassifier\n",
    "from sklearn.preprocessing import LabelEncoder\n",
    "from sklearn.naive_bayes import MultinomialNB\n",
    "from sklearn.metrics import classification_report, confusion_matrix\n",
    "import seaborn as sns\n",
    "from matplotlib import pyplot as plt\n",
    "from sklearn import metrics\n",
    "from sklearn.svm import SVC\n",
    "from sklearn import svm\n",
    "from sklearn.feature_extraction.text import CountVectorizer\n",
    "\n",
    "import nltk\n",
    "nltk.download('punkt')"
   ]
  },
  {
   "cell_type": "code",
   "execution_count": 2,
   "id": "b749f1c0",
   "metadata": {},
   "outputs": [],
   "source": [
    "\n",
    "HSD_data = pd.read_csv('C:/Users/MekdimTamirat/Documents/Active Projects/hateSpeechDetectionOnSocailMedia/data_HSD_final.csv')\n",
    "HSD_data.columns = ['Text', 'Catagory'] # give column names\n"
   ]
  },
  {
   "cell_type": "code",
   "execution_count": 3,
   "id": "e42d34c8",
   "metadata": {},
   "outputs": [
    {
     "data": {
      "text/html": [
       "<div>\n",
       "<style scoped>\n",
       "    .dataframe tbody tr th:only-of-type {\n",
       "        vertical-align: middle;\n",
       "    }\n",
       "\n",
       "    .dataframe tbody tr th {\n",
       "        vertical-align: top;\n",
       "    }\n",
       "\n",
       "    .dataframe thead th {\n",
       "        text-align: right;\n",
       "    }\n",
       "</style>\n",
       "<table border=\"1\" class=\"dataframe\">\n",
       "  <thead>\n",
       "    <tr style=\"text-align: right;\">\n",
       "      <th></th>\n",
       "      <th>Text</th>\n",
       "      <th>Catagory</th>\n",
       "    </tr>\n",
       "  </thead>\n",
       "  <tbody>\n",
       "    <tr>\n",
       "      <th>9394</th>\n",
       "      <td>ይህ ቆሻሻ መንግስት ህዝብ አስጨረሰ እባካችሁ ለዚህ የዋህ ሚስኪን ህዝብ/...</td>\n",
       "      <td>hate-speech</td>\n",
       "    </tr>\n",
       "    <tr>\n",
       "      <th>9395</th>\n",
       "      <td>ሀሀሀሀሀሀሀሀ አበረ አዳሙ የአንተን በደል ጊዜ ይመልሰው</td>\n",
       "      <td>hate-speech</td>\n",
       "    </tr>\n",
       "    <tr>\n",
       "      <th>9396</th>\n",
       "      <td>እስክንድር ጋ ተገናኝ የአአ መሪ እሱ ነው ታኬ ህገወጥ ነው!!</td>\n",
       "      <td>hate-speech</td>\n",
       "    </tr>\n",
       "    <tr>\n",
       "      <th>9397</th>\n",
       "      <td>ፎቶ ብቻ ጉራ ብቻ መጀመሪያ የ አ.አ ልጆችን ፍታ</td>\n",
       "      <td>hate-speech</td>\n",
       "    </tr>\n",
       "    <tr>\n",
       "      <th>9398</th>\n",
       "      <td>የኦርቶዶክስ እያፈረሱ የሌላን ይገነባሉ ድሮም ሴጣን ቤቱን ለማደስ ይሮጣል...</td>\n",
       "      <td>hate-speech</td>\n",
       "    </tr>\n",
       "  </tbody>\n",
       "</table>\n",
       "</div>"
      ],
      "text/plain": [
       "                                                   Text     Catagory\n",
       "9394  ይህ ቆሻሻ መንግስት ህዝብ አስጨረሰ እባካችሁ ለዚህ የዋህ ሚስኪን ህዝብ/...  hate-speech\n",
       "9395                ሀሀሀሀሀሀሀሀ አበረ አዳሙ የአንተን በደል ጊዜ ይመልሰው  hate-speech\n",
       "9396            እስክንድር ጋ ተገናኝ የአአ መሪ እሱ ነው ታኬ ህገወጥ ነው!!  hate-speech\n",
       "9397                    ፎቶ ብቻ ጉራ ብቻ መጀመሪያ የ አ.አ ልጆችን ፍታ  hate-speech\n",
       "9398  የኦርቶዶክስ እያፈረሱ የሌላን ይገነባሉ ድሮም ሴጣን ቤቱን ለማደስ ይሮጣል...  hate-speech"
      ]
     },
     "execution_count": 3,
     "metadata": {},
     "output_type": "execute_result"
    }
   ],
   "source": [
    "HSD_data.head()\n",
    "HSD_data.tail()"
   ]
  },
  {
   "cell_type": "code",
   "execution_count": 4,
   "id": "18a38467",
   "metadata": {},
   "outputs": [
    {
     "data": {
      "image/png": "[encoded data removed]",
      "text/plain": [
       "<Figure size 700x300 with 1 Axes>"
      ]
     },
     "metadata": {},
     "output_type": "display_data"
    }
   ],
   "source": [
    "# Creating histogram\n",
    "fig, ax = plt.subplots(figsize =(7, 3))\n",
    "ax.hist(HSD_data['Catagory'])\n",
    " \n",
    "# Show plot\n",
    "plt.show()\n"
   ]
  },
  {
   "cell_type": "markdown",
   "id": "1ad6fde4",
   "metadata": {},
   "source": [
    "# pre-processing the data\n",
    "\n",
    "####  step- 1 Removing unnecessary punctuation and characters\n",
    "####  step -2 Tokenization\n",
    "####  step -3 Removing stop words \n",
    "####  step-4  Normalization\n",
    "#####  step -5 Stemming\n",
    "#####  step -6 Lemmatization\n"
   ]
  },
  {
   "cell_type": "markdown",
   "id": "1e87b73b",
   "metadata": {},
   "source": [
    "### Step -1 "
   ]
  },
  {
   "cell_type": "code",
   "execution_count": 5,
   "id": "ea6a31aa",
   "metadata": {},
   "outputs": [],
   "source": [
    "words = HSD_data['Text']\n",
    "finalWords = []\n",
    "for word in words:\n",
    "    \n",
    "    word = word.strip() # removing the uncessary word whitespaces\n",
    "    \n",
    "    #remove any non-alphanumeric character\n",
    "    word = re.sub(r'\\W', ' ', str(word))\n",
    "    \n",
    "    #remove any digit\n",
    "    word = re.sub(\"(\\\\d)+\",\" \",word)\n",
    "    \n",
    "    #remove punctuation \n",
    "    word = re.sub(\",#'!:;\",\" \",word)\n",
    "    \n",
    "    #remove any latin characters \n",
    "    word = re.sub(r'[a-zA-Z]+', '', word)\n",
    "\n",
    "    word = re.sub('\\s+', ' ', word)  # remove extra whitespace\n",
    "    finalWords.append(word)\n",
    "\n"
   ]
  },
  {
   "cell_type": "markdown",
   "id": "8af03d98",
   "metadata": {},
   "source": [
    "###  step -2 "
   ]
  },
  {
   "cell_type": "code",
   "execution_count": 6,
   "id": "7918b442",
   "metadata": {},
   "outputs": [],
   "source": [
    "\n",
    "tokenizedList = []\n",
    "for lineWord in finalWords:\n",
    "    separatedWords = lineWord.split(' ')\n",
    "    word = [word for word in separatedWords if   word.strip() != '']\n",
    "    tokenizedList.append(word)\n",
    "    "
   ]
  },
  {
   "cell_type": "markdown",
   "id": "7fa42c9a",
   "metadata": {},
   "source": [
    "### step -3"
   ]
  },
  {
   "cell_type": "code",
   "execution_count": 7,
   "id": "32befbac",
   "metadata": {},
   "outputs": [],
   "source": [
    "# list amharic stop words\n",
    "stopwords=['ነው', 'እና', 'እኔ', 'የእኔ','እኔ','ራሴ','እኛ','የእኛ','እኛ','ራሳችን','አንቺ' ,'የእርስዎ' ,'እራስዎ','እራሳችሁን','የእሱ',\n",
    "           'እሱ','እ','ራሱ','እሷ' 'ራሷን','እሱ','በራሱ','እነሱ','የእነሱ','እራሳቸው','ምንድን','የት','ማን','ይሄ','ያንን','እነዚህ','እነዚያ'\n",
    "           ,'ነው','እነዚህ','ናቸው','ነበር','ነበሩ','መሆን','ሆኗል','መሆን','አለ','ነበሩ','አለው','መስራት','ያደርገዋል','አደረጉት',\n",
    "           'ማድረግ','እና','ግን','ከሆነ','ወይም','ምክንያቱም','እንደ','እስከ','ገና','የ','ለ','ከ','ጋር','ስለ','መካከል','ውስጥ',\n",
    "           'ከዚህ','በፊት','በኋላ','ከላይ','ከታች','ወደ','ከ','ወደ','ላይ','ታች','ውስጥ','ውጭ','በላይ','በታች','በድጋሚ','እናስ','እናም']\n",
    "\n",
    "           \n",
    "cleanedWordsList= []\n",
    "for lineWords in tokenizedList:\n",
    "    tempList = []\n",
    "    for word in lineWords:\n",
    "        if word.strip() not in stopwords:\n",
    "            tempList.append(word)\n",
    "    cleanedWordsList.append(tempList)\n",
    "    \n",
    "        "
   ]
  },
  {
   "cell_type": "markdown",
   "id": "60a7b5ab",
   "metadata": {},
   "source": [
    "### Step -4 "
   ]
  },
  {
   "cell_type": "code",
   "execution_count": 8,
   "id": "aa4f16f9",
   "metadata": {},
   "outputs": [],
   "source": [
    "# for the time being this is fine but convert it to something good but not this at all\n",
    "\n",
    "normalizedSenteces = []\n",
    "for linesWords in cleanedWordsList:\n",
    "    tempList = []\n",
    "    for word in linesWords:\n",
    "        \n",
    "        word = re.sub(\"ሐ\",\"ሀ\",word)\n",
    "        word = re.sub(\"ሑ\",\"ሁ\",word)\n",
    "        word = re.sub(\"ሒ\",\"ሂ\",word)\n",
    "        word = re.sub(\"ሓ\",\"ሃ\",word)\n",
    "        word = re.sub(\"ሔ\",\"ሄ\",word)\n",
    "        word = re.sub(\"ሕ\",\"ህ\",word)\n",
    "        word = re.sub(\"ሖ\",\"ሆ\",word)\n",
    "        \n",
    "        word = re.sub(\"ኀ\",\"ሀ\",word)\n",
    "        word = re.sub(\"ኁ\",\"ሁ\",word)\n",
    "        word = re.sub(\"ኂ\",\"ሂ\",word)\n",
    "        word = re.sub(\"ኃ\",\"ሃ\",word)\n",
    "        word = re.sub(\"ኄ\",\"ሄ\",word)\n",
    "        word = re.sub(\"ኅ\",\"ህ\",word)\n",
    "        word = re.sub(\"ኆ\",\"ሆ\",word)\n",
    "        \n",
    "        word = re.sub(\"ሠ\",\"ሰ\",word)\n",
    "        word = re.sub(\"ሡ\",\"ሱ\",word)\n",
    "        word = re.sub(\"ሢ\",\"ሲ\",word)\n",
    "        word = re.sub(\"ሣ\",\"ሳ\",word)\n",
    "        word = re.sub(\"ሤ\",\"ሴ\",word)\n",
    "        word = re.sub(\"ሥ\",\"ስ\",word)\n",
    "        word = re.sub(\"ሦ\",\"ሶ\",word)\n",
    "        \n",
    "        word = re.sub(\"ዐ\",\"አ\",word)\n",
    "        word = re.sub(\"ዑ\",\"ኡ\",word)\n",
    "        word = re.sub(\"ዒ\",\"ኢ\",word)\n",
    "        word = re.sub(\"ዓ\",\"ኣ\",word)\n",
    "        word = re.sub(\"ዔ\",\"ኤ\",word)\n",
    "        word = re.sub(\"ዕ\",\"እ\",word)\n",
    "        word = re.sub(\"ዖ\",\"ኦ\",word)\n",
    "        \n",
    "        word = re.sub(\"ዐ\",\"አ\",word)\n",
    "        word = re.sub(\"ዑ\",\"ኡ\",word)\n",
    "        word = re.sub(\"ዒ\",\"ኢ\",word)\n",
    "        word = re.sub(\"ዓ\",\"ኣ\",word)\n",
    "        word = re.sub(\"ዔ\",\"ኤ\",word)\n",
    "        word = re.sub(\"ዕ\",\"እ\",word)\n",
    "        word = re.sub(\"ዖ\",\"ኦ\",word)\n",
    "        \n",
    "        word = re.sub(\"ጸ\",\"ፀ\",word)\n",
    "        word = re.sub(\"ጹ\",\"ፁ\",word)\n",
    "        word = re.sub(\"ጺ\",\"ፂ\",word)\n",
    "        word = re.sub(\"ጻ\",\"ፃ\",word)\n",
    "        word = re.sub(\"ጼ\",\"ፄ\",word)\n",
    "        word = re.sub(\"ጽ\",\"ፅ\",word)\n",
    "        word = re.sub(\"ጾ\",\"ፆ\",word)\n",
    "        \n",
    "        tempList.append(word)\n",
    "    normalizedSenteces.append(tempList)\n",
    "               "
   ]
  },
  {
   "cell_type": "code",
   "execution_count": 9,
   "id": "5418111c",
   "metadata": {},
   "outputs": [],
   "source": [
    "HSD_data['Catagory'] = HSD_data.Catagory.map({'Non-Hate':1,'hate-speech':0})"
   ]
  },
  {
   "cell_type": "markdown",
   "id": "653c9a62",
   "metadata": {},
   "source": [
    "# N-grams Vectorizer Models"
   ]
  },
  {
   "cell_type": "code",
   "execution_count": 10,
   "id": "33fdac6c",
   "metadata": {},
   "outputs": [],
   "source": [
    "# # Split into training and testing data\n",
    "x = HSD_data['Text']\n",
    "y = HSD_data['Catagory']\n"
   ]
  },
  {
   "cell_type": "code",
   "execution_count": 11,
   "id": "01bbae13",
   "metadata": {},
   "outputs": [],
   "source": [
    "import pandas as pd\n",
    "\n",
    "\n",
    "normalizedSenteces  = pd.Series(normalizedSenteces)\n",
    "\n",
    "finalSentences = []\n",
    "for lists in normalizedSenteces:\n",
    "    temp = \"\"\n",
    "    for word in lists:\n",
    "        temp =  temp +\" \"+word\n",
    "    finalSentences.append(temp)\n",
    "\n",
    "    \n",
    "x = pd.Series(finalSentences)"
   ]
  },
  {
   "cell_type": "markdown",
   "id": "ad142413",
   "metadata": {},
   "source": [
    "## Uni-Gram"
   ]
  },
  {
   "cell_type": "code",
   "execution_count": 12,
   "id": "3d2e31f7",
   "metadata": {},
   "outputs": [],
   "source": [
    "ngram_vectorizer_uni = CountVectorizer(\n",
    "    analyzer='word',\n",
    "    ngram_range=(1, 1),\n",
    "    binary=True, \n",
    "    \n",
    "    decode_error = 'replace'\n",
    ")\n",
    "ngram_vectorizer_fit_uni = ngram_vectorizer_uni.fit_transform(x)\n",
    "\n"
   ]
  },
  {
   "cell_type": "code",
   "execution_count": 13,
   "id": "cc2a9457",
   "metadata": {},
   "outputs": [
    {
     "data": {
      "text/plain": [
       "array(['_ልም', '_ባደጋቸዉ', 'ሀሀ', ..., '፫፲', '፮፮፮', '፻፴፪'], dtype=object)"
      ]
     },
     "execution_count": 13,
     "metadata": {},
     "output_type": "execute_result"
    }
   ],
   "source": [
    "ngram_vectorizer_uni.get_feature_names_out()"
   ]
  },
  {
   "cell_type": "markdown",
   "id": "ee4f938e",
   "metadata": {},
   "source": [
    "##### spliting  uni-Gram the data to training and test data\n"
   ]
  },
  {
   "cell_type": "code",
   "execution_count": 14,
   "id": "bde41df2",
   "metadata": {},
   "outputs": [],
   "source": [
    "# Split into training and testing data after vectorizing for testing purpose\n",
    "x_train_uni, x_test_uni, y_train_uni, y_test_uni = train_test_split(ngram_vectorizer_fit_uni,y,  test_size=0.2, random_state=42)\n"
   ]
  },
  {
   "cell_type": "markdown",
   "id": "ea47c2e0",
   "metadata": {},
   "source": [
    "### Uni-gram with Naive Bayes"
   ]
  },
  {
   "cell_type": "code",
   "execution_count": 15,
   "id": "56f43335",
   "metadata": {},
   "outputs": [],
   "source": [
    "model_NB_uni = MultinomialNB()\n",
    "model_NB_uni = model_NB_uni.fit(x_train_uni, y_train_uni)"
   ]
  },
  {
   "cell_type": "markdown",
   "id": "b98d1df1",
   "metadata": {},
   "source": [
    "#### predicting  and getting necessary scores and accuracy --NB\n"
   ]
  },
  {
   "cell_type": "code",
   "execution_count": 16,
   "id": "a64c795b",
   "metadata": {},
   "outputs": [],
   "source": [
    "# prediction \n",
    "predicted_uni_nb = model_NB_uni.predict(x_test_uni)\n",
    "\n",
    "# Score\n",
    "nb_score_uni_nb = model_NB_uni.score(x_test_uni, y_test_uni)\n",
    "\n",
    "accuracy_score_uni_nb = metrics.accuracy_score(y_test_uni, predicted_uni_nb)\n",
    "confusion_matric_uni_nb = metrics.confusion_matrix(y_test_uni, predicted_uni_nb)\n",
    "classification_score_uni_nb = metrics.classification_report(y_test_uni, predicted_uni_nb)\n",
    "precission_score_uni_nb = metrics.precision_score(y_test_uni, predicted_uni_nb)\n",
    "recall_score_uni_nb = metrics.recall_score(y_test_uni, predicted_uni_nb)\n"
   ]
  },
  {
   "cell_type": "code",
   "execution_count": 17,
   "id": "8ed962e3",
   "metadata": {},
   "outputs": [
    {
     "name": "stdout",
     "output_type": "stream",
     "text": [
      "0.8686170212765958\n",
      "0.8686170212765958\n",
      "[[ 563  105]\n",
      " [ 142 1070]]\n",
      "              precision    recall  f1-score   support\n",
      "\n",
      "           0       0.80      0.84      0.82       668\n",
      "           1       0.91      0.88      0.90      1212\n",
      "\n",
      "    accuracy                           0.87      1880\n",
      "   macro avg       0.85      0.86      0.86      1880\n",
      "weighted avg       0.87      0.87      0.87      1880\n",
      "\n",
      "0.9106382978723404\n",
      "0.8828382838283828\n"
     ]
    }
   ],
   "source": [
    "print(nb_score_uni_nb)\n",
    "print(accuracy_score_uni_nb)\n",
    "print(confusion_matric_uni_nb)\n",
    "print(classification_score_uni_nb)\n",
    "print(precission_score_uni_nb)\n",
    "print(recall_score_uni_nb)"
   ]
  },
  {
   "cell_type": "code",
   "execution_count": 18,
   "id": "f120f907",
   "metadata": {},
   "outputs": [
    {
     "data": {
      "text/plain": [
       "Text(50.722222222222214, 0.5, 'y_pred')"
      ]
     },
     "execution_count": 18,
     "metadata": {},
     "output_type": "execute_result"
    },
    {
     "data": {
      "image/png": "[encoded data removed]",
      "text/plain": [
       "<Figure size 640x480 with 2 Axes>"
      ]
     },
     "metadata": {},
     "output_type": "display_data"
    }
   ],
   "source": [
    "cm_rf=confusion_matrix(y_test_uni,predicted_uni_nb)\n",
    "ax_rf=sns.heatmap(cm_rf,annot=True,cmap='Blues',fmt=' ')\n",
    "ax_rf.set_title('Confusion Matrix NB with Uni-Gram')\n",
    "ax_rf.set_xlabel('y_test')\n",
    "ax_rf.set_ylabel('y_pred')"
   ]
  },
  {
   "cell_type": "markdown",
   "id": "392305c5",
   "metadata": {},
   "source": [
    "### Uni-gram with Supported Vector Machine"
   ]
  },
  {
   "cell_type": "code",
   "execution_count": 19,
   "id": "c2be253e",
   "metadata": {},
   "outputs": [],
   "source": [
    "# Perform classification with SVM, kernel=linear\n",
    "SVM_uni= svm.SVC(\n",
    "    kernel='linear',\n",
    "    max_iter=-1\n",
    ")\n",
    "SVM_uni = SVM_uni.fit(x_train_uni, y_train_uni)\n"
   ]
  },
  {
   "cell_type": "markdown",
   "id": "3a0c1b95",
   "metadata": {},
   "source": [
    "#### predicting the and getting necessary accurracy -- SVM"
   ]
  },
  {
   "cell_type": "code",
   "execution_count": 20,
   "id": "de417189",
   "metadata": {},
   "outputs": [],
   "source": [
    "# prediction \n",
    "predicted_uni_svm = SVM_uni.predict(x_test_uni)\n",
    "\n",
    "# Score\n",
    "nb_score_uni_svm = SVM_uni.score(x_test_uni, y_test_uni)\n",
    "\n",
    "accuracy_score_uni_svm  =metrics.accuracy_score(y_test_uni, predicted_uni_svm)\n",
    "confusion_matric_uni_svm  = metrics.confusion_matrix(y_test_uni, predicted_uni_svm)\n",
    "classification_score_uni_svm  = metrics.classification_report(y_test_uni, predicted_uni_svm)\n",
    "precission_score_uni_svm  = metrics.precision_score(y_test_uni, predicted_uni_svm)\n",
    "recall_score_uni_svm  = metrics.recall_score(y_test_uni, predicted_uni_svm)\n"
   ]
  },
  {
   "cell_type": "code",
   "execution_count": 21,
   "id": "8bb3b7ef",
   "metadata": {},
   "outputs": [
    {
     "name": "stdout",
     "output_type": "stream",
     "text": [
      "0.8797872340425532\n",
      "0.8797872340425532\n",
      "[[ 500  168]\n",
      " [  58 1154]]\n",
      "              precision    recall  f1-score   support\n",
      "\n",
      "           0       0.90      0.75      0.82       668\n",
      "           1       0.87      0.95      0.91      1212\n",
      "\n",
      "    accuracy                           0.88      1880\n",
      "   macro avg       0.88      0.85      0.86      1880\n",
      "weighted avg       0.88      0.88      0.88      1880\n",
      "\n",
      "0.8729198184568835\n",
      "0.9521452145214522\n"
     ]
    }
   ],
   "source": [
    "print(nb_score_uni_svm)\n",
    "print(accuracy_score_uni_svm)\n",
    "print(confusion_matric_uni_svm)\n",
    "print(classification_score_uni_svm)\n",
    "print(precission_score_uni_svm)\n",
    "print(recall_score_uni_svm)"
   ]
  },
  {
   "cell_type": "code",
   "execution_count": 22,
   "id": "f8cb25d9",
   "metadata": {},
   "outputs": [
    {
     "data": {
      "text/plain": [
       "Text(50.722222222222214, 0.5, 'y_pred')"
      ]
     },
     "execution_count": 22,
     "metadata": {},
     "output_type": "execute_result"
    },
    {
     "data": {
      "image/png": "[encoded data removed]",
      "text/plain": [
       "<Figure size 640x480 with 2 Axes>"
      ]
     },
     "metadata": {},
     "output_type": "display_data"
    }
   ],
   "source": [
    "cm_rf=confusion_matrix(y_test_uni,predicted_uni_svm)\n",
    "ax_rf=sns.heatmap(cm_rf,annot=True,cmap='Blues',fmt=' ')\n",
    "ax_rf.set_title('Confusion Matrix SVM with uni-grams')\n",
    "ax_rf.set_xlabel('y_test')\n",
    "ax_rf.set_ylabel('y_pred')"
   ]
  },
  {
   "cell_type": "markdown",
   "id": "74dc8073",
   "metadata": {},
   "source": [
    "### Uni-gram with Random Forest"
   ]
  },
  {
   "cell_type": "code",
   "execution_count": 25,
   "id": "bb10afa4",
   "metadata": {},
   "outputs": [],
   "source": [
    "# creating a RF classifier\n",
    "RandomForest_uni = RandomForestClassifier(n_estimators = 100, n_jobs=-1)\n",
    "RandomForest_uni = RandomForest_uni.fit(x_train_uni, y_train_uni)\n"
   ]
  },
  {
   "cell_type": "code",
   "execution_count": 26,
   "id": "79f5d018",
   "metadata": {},
   "outputs": [],
   "source": [
    "# prediction \n",
    "predicted_rf_uni = RandomForest_uni.predict(x_test_uni)\n",
    "\n",
    "# Score\n",
    "RF_score_rf_uni = RandomForest_uni.score(x_test_uni, y_test_uni)\n",
    "\n",
    "accuracy_score_uni_rf = metrics.accuracy_score(y_test_uni, predicted_rf_uni)\n",
    "confusion_matric_uni_rf = metrics.confusion_matrix(y_test_uni, predicted_rf_uni)\n",
    "classification_score_uni_rf = metrics.classification_report(y_test_uni, predicted_rf_uni)\n",
    "precission_score_uni_rf= metrics.precision_score(y_test_uni, predicted_rf_uni)\n",
    "recall_score_uni_rf = metrics.recall_score(y_test_uni, predicted_rf_uni)"
   ]
  },
  {
   "cell_type": "code",
   "execution_count": 27,
   "id": "c739080b",
   "metadata": {},
   "outputs": [
    {
     "name": "stdout",
     "output_type": "stream",
     "text": [
      "0.8632978723404255\n",
      "0.8632978723404255\n",
      "[[ 456  212]\n",
      " [  45 1167]]\n",
      "              precision    recall  f1-score   support\n",
      "\n",
      "           0       0.91      0.68      0.78       668\n",
      "           1       0.85      0.96      0.90      1212\n",
      "\n",
      "    accuracy                           0.86      1880\n",
      "   macro avg       0.88      0.82      0.84      1880\n",
      "weighted avg       0.87      0.86      0.86      1880\n",
      "\n",
      "0.8462654097171863\n",
      "0.9628712871287128\n"
     ]
    }
   ],
   "source": [
    "print(RF_score_rf_uni)\n",
    "print(accuracy_score_uni_rf)\n",
    "print(confusion_matric_uni_rf)\n",
    "print(classification_score_uni_rf)\n",
    "print(precission_score_uni_rf)\n",
    "print(recall_score_uni_rf)"
   ]
  },
  {
   "cell_type": "code",
   "execution_count": 28,
   "id": "3c0db1d9",
   "metadata": {},
   "outputs": [
    {
     "data": {
      "text/plain": [
       "Text(50.722222222222214, 0.5, 'y_pred')"
      ]
     },
     "execution_count": 28,
     "metadata": {},
     "output_type": "execute_result"
    },
    {
     "data": {
      "image/png": "[encoded data removed]",
      "text/plain": [
       "<Figure size 640x480 with 2 Axes>"
      ]
     },
     "metadata": {},
     "output_type": "display_data"
    }
   ],
   "source": [
    "cm_rf=confusion_matrix(y_test_uni,predicted_rf_uni)\n",
    "ax_rf=sns.heatmap(cm_rf,annot=True,cmap='Blues',fmt=' ')\n",
    "ax_rf.set_title('Confusion Matrix RandomForest with Uni-Gram')\n",
    "ax_rf.set_xlabel('y_test')\n",
    "ax_rf.set_ylabel('y_pred')"
   ]
  },
  {
   "cell_type": "markdown",
   "id": "2026239a",
   "metadata": {},
   "source": [
    "## Bi-Gram"
   ]
  },
  {
   "cell_type": "code",
   "execution_count": 29,
   "id": "d45bcc2b",
   "metadata": {},
   "outputs": [],
   "source": [
    "ngram_vectorizer_bi = CountVectorizer(\n",
    "    analyzer='word',\n",
    "    ngram_range=(2, 2),\n",
    ")\n",
    "\n",
    "ngram_vectorizer_fit_bi = ngram_vectorizer_bi.fit_transform(x)\n"
   ]
  },
  {
   "cell_type": "code",
   "execution_count": 30,
   "id": "59cb299d",
   "metadata": {},
   "outputs": [
    {
     "data": {
      "text/plain": [
       "array(['_ልም _ባደጋቸዉ', 'ሀሀ ኣመት', 'ሀሀሀ ተንታና', ..., '፪፭ አመት', '፫፲ ኣመተ',\n",
       "       '፮፮፮ በእዚህ'], dtype=object)"
      ]
     },
     "execution_count": 30,
     "metadata": {},
     "output_type": "execute_result"
    }
   ],
   "source": [
    "ngram_vectorizer_bi.get_feature_names_out()"
   ]
  },
  {
   "cell_type": "markdown",
   "id": "b475b84a",
   "metadata": {},
   "source": [
    "##### spliting  BI-Gram the data to training and test data\n"
   ]
  },
  {
   "cell_type": "code",
   "execution_count": 31,
   "id": "0f24c901",
   "metadata": {},
   "outputs": [],
   "source": [
    "# Split into training and testing data after vectorizing for testing purpose\n",
    "x_train_bi, x_test_bi, y_train_bi, y_test_bi = train_test_split(ngram_vectorizer_fit_bi,y,  test_size=0.2, random_state=42)"
   ]
  },
  {
   "cell_type": "markdown",
   "id": "d6bae464",
   "metadata": {},
   "source": [
    "### BI-gram with Naive Bayes"
   ]
  },
  {
   "cell_type": "code",
   "execution_count": 32,
   "id": "8e7883dc",
   "metadata": {},
   "outputs": [
    {
     "data": {
      "text/html": [
       "<style>#sk-container-id-1 {color: black;background-color: white;}#sk-container-id-1 pre{padding: 0;}#sk-container-id-1 div.sk-toggleable {background-color: white;}#sk-container-id-1 label.sk-toggleable__label {cursor: pointer;display: block;width: 100%;margin-bottom: 0;padding: 0.3em;box-sizing: border-box;text-align: center;}#sk-container-id-1 label.sk-toggleable__label-arrow:before {content: \"▸\";float: left;margin-right: 0.25em;color: #696969;}#sk-container-id-1 label.sk-toggleable__label-arrow:hover:before {color: black;}#sk-container-id-1 div.sk-estimator:hover label.sk-toggleable__label-arrow:before {color: black;}#sk-container-id-1 div.sk-toggleable__content {max-height: 0;max-width: 0;overflow: hidden;text-align: left;background-color: #f0f8ff;}#sk-container-id-1 div.sk-toggleable__content pre {margin: 0.2em;color: black;border-radius: 0.25em;background-color: #f0f8ff;}#sk-container-id-1 input.sk-toggleable__control:checked~div.sk-toggleable__content {max-height: 200px;max-width: 100%;overflow: auto;}#sk-container-id-1 input.sk-toggleable__control:checked~label.sk-toggleable__label-arrow:before {content: \"▾\";}#sk-container-id-1 div.sk-estimator input.sk-toggleable__control:checked~label.sk-toggleable__label {background-color: #d4ebff;}#sk-container-id-1 div.sk-label input.sk-toggleable__control:checked~label.sk-toggleable__label {background-color: #d4ebff;}#sk-container-id-1 input.sk-hidden--visually {border: 0;clip: rect(1px 1px 1px 1px);clip: rect(1px, 1px, 1px, 1px);height: 1px;margin: -1px;overflow: hidden;padding: 0;position: absolute;width: 1px;}#sk-container-id-1 div.sk-estimator {font-family: monospace;background-color: #f0f8ff;border: 1px dotted black;border-radius: 0.25em;box-sizing: border-box;margin-bottom: 0.5em;}#sk-container-id-1 div.sk-estimator:hover {background-color: #d4ebff;}#sk-container-id-1 div.sk-parallel-item::after {content: \"\";width: 100%;border-bottom: 1px solid gray;flex-grow: 1;}#sk-container-id-1 div.sk-label:hover label.sk-toggleable__label {background-color: #d4ebff;}#sk-container-id-1 div.sk-serial::before {content: \"\";position: absolute;border-left: 1px solid gray;box-sizing: border-box;top: 0;bottom: 0;left: 50%;z-index: 0;}#sk-container-id-1 div.sk-serial {display: flex;flex-direction: column;align-items: center;background-color: white;padding-right: 0.2em;padding-left: 0.2em;position: relative;}#sk-container-id-1 div.sk-item {position: relative;z-index: 1;}#sk-container-id-1 div.sk-parallel {display: flex;align-items: stretch;justify-content: center;background-color: white;position: relative;}#sk-container-id-1 div.sk-item::before, #sk-container-id-1 div.sk-parallel-item::before {content: \"\";position: absolute;border-left: 1px solid gray;box-sizing: border-box;top: 0;bottom: 0;left: 50%;z-index: -1;}#sk-container-id-1 div.sk-parallel-item {display: flex;flex-direction: column;z-index: 1;position: relative;background-color: white;}#sk-container-id-1 div.sk-parallel-item:first-child::after {align-self: flex-end;width: 50%;}#sk-container-id-1 div.sk-parallel-item:last-child::after {align-self: flex-start;width: 50%;}#sk-container-id-1 div.sk-parallel-item:only-child::after {width: 0;}#sk-container-id-1 div.sk-dashed-wrapped {border: 1px dashed gray;margin: 0 0.4em 0.5em 0.4em;box-sizing: border-box;padding-bottom: 0.4em;background-color: white;}#sk-container-id-1 div.sk-label label {font-family: monospace;font-weight: bold;display: inline-block;line-height: 1.2em;}#sk-container-id-1 div.sk-label-container {text-align: center;}#sk-container-id-1 div.sk-container {/* jupyter's `normalize.less` sets `[hidden] { display: none; }` but bootstrap.min.css set `[hidden] { display: none !important; }` so we also need the `!important` here to be able to override the default hidden behavior on the sphinx rendered scikit-learn.org. See: https://github.com/scikit-learn/scikit-learn/issues/21755 */display: inline-block !important;position: relative;}#sk-container-id-1 div.sk-text-repr-fallback {display: none;}</style><div id=\"sk-container-id-1\" class=\"sk-top-container\"><div class=\"sk-text-repr-fallback\"><pre>MultinomialNB()</pre><b>In a Jupyter environment, please rerun this cell to show the HTML representation or trust the notebook. <br />On GitHub, the HTML representation is unable to render, please try loading this page with nbviewer.org.</b></div><div class=\"sk-container\" hidden><div class=\"sk-item\"><div class=\"sk-estimator sk-toggleable\"><input class=\"sk-toggleable__control sk-hidden--visually\" id=\"sk-estimator-id-1\" type=\"checkbox\" checked><label for=\"sk-estimator-id-1\" class=\"sk-toggleable__label sk-toggleable__label-arrow\">MultinomialNB</label><div class=\"sk-toggleable__content\"><pre>MultinomialNB()</pre></div></div></div></div></div>"
      ],
      "text/plain": [
       "MultinomialNB()"
      ]
     },
     "execution_count": 32,
     "metadata": {},
     "output_type": "execute_result"
    }
   ],
   "source": [
    "model_NB_bi = MultinomialNB()\n",
    "model_NB_bi.fit(x_train_bi, y_train_bi)"
   ]
  },
  {
   "cell_type": "markdown",
   "id": "3dc513e8",
   "metadata": {},
   "source": [
    "##### predicting  and getting necessary scores and accuracy --NB"
   ]
  },
  {
   "cell_type": "code",
   "execution_count": 33,
   "id": "f8426b8b",
   "metadata": {},
   "outputs": [],
   "source": [
    "# prediction \n",
    "predicted_bi_nb = model_NB_bi.predict(x_test_bi)\n",
    "\n",
    "# Score\n",
    "nb_score_bi_nb = model_NB_bi.score(x_test_bi, y_test_bi)\n",
    "\n",
    "accuracy_score_bi_nb =metrics.accuracy_score(y_test_bi, predicted_bi_nb)\n",
    "confusion_matric_bi_nb = metrics.confusion_matrix(y_test_bi, predicted_bi_nb)\n",
    "classification_score_bi_nb = metrics.classification_report(y_test_bi, predicted_bi_nb)\n",
    "precission_score_bi_nb = metrics.precision_score(y_test_bi, predicted_bi_nb)\n",
    "recall_score_bi_nb = metrics.recall_score(y_test_bi, predicted_bi_nb)\n"
   ]
  },
  {
   "cell_type": "code",
   "execution_count": 34,
   "id": "5cd804b5",
   "metadata": {},
   "outputs": [
    {
     "name": "stdout",
     "output_type": "stream",
     "text": [
      "0.7430851063829788\n",
      "0.7430851063829788\n",
      "[[545 123]\n",
      " [360 852]]\n",
      "              precision    recall  f1-score   support\n",
      "\n",
      "           0       0.60      0.82      0.69       668\n",
      "           1       0.87      0.70      0.78      1212\n",
      "\n",
      "    accuracy                           0.74      1880\n",
      "   macro avg       0.74      0.76      0.74      1880\n",
      "weighted avg       0.78      0.74      0.75      1880\n",
      "\n",
      "0.8738461538461538\n",
      "0.7029702970297029\n"
     ]
    }
   ],
   "source": [
    "print(nb_score_bi_nb)\n",
    "print(accuracy_score_bi_nb)\n",
    "print(confusion_matric_bi_nb)\n",
    "print(classification_score_bi_nb)\n",
    "print(precission_score_bi_nb)\n",
    "print(recall_score_bi_nb)"
   ]
  },
  {
   "cell_type": "code",
   "execution_count": 35,
   "id": "e38eeb58",
   "metadata": {},
   "outputs": [
    {
     "data": {
      "text/plain": [
       "Text(50.722222222222214, 0.5, 'y_pred')"
      ]
     },
     "execution_count": 35,
     "metadata": {},
     "output_type": "execute_result"
    },
    {
     "data": {
      "image/png": "[encoded data removed]",
      "text/plain": [
       "<Figure size 640x480 with 2 Axes>"
      ]
     },
     "metadata": {},
     "output_type": "display_data"
    }
   ],
   "source": [
    "cm_rf=confusion_matrix(y_test_bi,predicted_bi_nb)\n",
    "ax_rf=sns.heatmap(cm_rf,annot=True,cmap='Blues',fmt=' ')\n",
    "ax_rf.set_title('Confusion Matrix NB with bi-gram')\n",
    "ax_rf.set_xlabel('y_test')\n",
    "ax_rf.set_ylabel('y_pred')"
   ]
  },
  {
   "cell_type": "markdown",
   "id": "8b3b80d8",
   "metadata": {},
   "source": [
    "### BI-gram with Supported Vector Machine"
   ]
  },
  {
   "cell_type": "code",
   "execution_count": 36,
   "id": "a2c37dc8",
   "metadata": {},
   "outputs": [],
   "source": [
    "# Perform classification with SVM, kernel=linear\n",
    "\n",
    "SVM_bi= svm.SVC( \n",
    "    kernel='linear',\n",
    "    max_iter=-1\n",
    ")\n",
    "\n",
    "SVM_bi = SVM_bi.fit(x_train_bi, y_train_bi)\n"
   ]
  },
  {
   "cell_type": "markdown",
   "id": "8470560d",
   "metadata": {},
   "source": [
    "##### predicting the and getting necessary accurracy -- SVM"
   ]
  },
  {
   "cell_type": "code",
   "execution_count": 37,
   "id": "43072986",
   "metadata": {},
   "outputs": [],
   "source": [
    "# prediction \n",
    "predicted_bi_svm = SVM_bi.predict(x_test_bi)\n",
    "\n",
    "# Score\n",
    "nb_score_bi_svm = SVM_bi.score(x_test_bi, y_test_bi)\n",
    "\n",
    "accuracy_score_bi_svm  =metrics.accuracy_score(y_test_bi, predicted_bi_svm)\n",
    "confusion_matric_bi_svm  = metrics.confusion_matrix(y_test_bi, predicted_bi_svm)\n",
    "classification_score_bi_svm  = metrics.classification_report(y_test_bi, predicted_bi_svm)\n",
    "precission_score_bi_svm  = metrics.precision_score(y_test_bi, predicted_bi_svm)\n",
    "recall_score_bi_svm  = metrics.recall_score(y_test_bi, predicted_bi_svm)\n"
   ]
  },
  {
   "cell_type": "code",
   "execution_count": 38,
   "id": "b6951593",
   "metadata": {},
   "outputs": [
    {
     "name": "stdout",
     "output_type": "stream",
     "text": [
      "0.773936170212766\n",
      "0.773936170212766\n",
      "[[ 255  413]\n",
      " [  12 1200]]\n",
      "              precision    recall  f1-score   support\n",
      "\n",
      "           0       0.96      0.38      0.55       668\n",
      "           1       0.74      0.99      0.85      1212\n",
      "\n",
      "    accuracy                           0.77      1880\n",
      "   macro avg       0.85      0.69      0.70      1880\n",
      "weighted avg       0.82      0.77      0.74      1880\n",
      "\n",
      "0.7439553626782393\n",
      "0.9900990099009901\n"
     ]
    }
   ],
   "source": [
    "print(nb_score_bi_svm)\n",
    "print(accuracy_score_bi_svm)\n",
    "print(confusion_matric_bi_svm)\n",
    "print(classification_score_bi_svm)\n",
    "print(precission_score_bi_svm)\n",
    "print(recall_score_bi_svm)"
   ]
  },
  {
   "cell_type": "code",
   "execution_count": 39,
   "id": "cdcaf6eb",
   "metadata": {},
   "outputs": [
    {
     "data": {
      "text/plain": [
       "Text(50.722222222222214, 0.5, 'y_pred')"
      ]
     },
     "execution_count": 39,
     "metadata": {},
     "output_type": "execute_result"
    },
    {
     "data": {
      "image/png": "[encoded data removed]",
      "text/plain": [
       "<Figure size 640x480 with 2 Axes>"
      ]
     },
     "metadata": {},
     "output_type": "display_data"
    }
   ],
   "source": [
    "cm_rf=confusion_matrix(y_test_bi,predicted_bi_svm)\n",
    "ax_rf=sns.heatmap(cm_rf,annot=True,cmap='Blues',fmt=' ')\n",
    "ax_rf.set_title('Confusion Matrix SVM with bi-gram')\n",
    "ax_rf.set_xlabel('y_test')\n",
    "ax_rf.set_ylabel('y_pred')"
   ]
  },
  {
   "cell_type": "markdown",
   "id": "f9892d0b",
   "metadata": {},
   "source": [
    "### BI-gram with Random Forest"
   ]
  },
  {
   "cell_type": "code",
   "execution_count": 40,
   "id": "81a4a808",
   "metadata": {},
   "outputs": [],
   "source": [
    "# creating a RF classifier\n",
    "RandomForest_bi = RandomForestClassifier(n_estimators = 100, n_jobs=-1)\n",
    "RandomForest_bi = RandomForest_bi.fit(x_train_bi, y_train_bi)"
   ]
  },
  {
   "cell_type": "code",
   "execution_count": 41,
   "id": "84f38a4b",
   "metadata": {},
   "outputs": [],
   "source": [
    "# prediction \n",
    "predicted_rf_bi = RandomForest_bi.predict(x_test_bi)\n",
    "\n",
    "# Score\n",
    "RF_score_rf_bi = RandomForest_bi.score(x_test_bi, y_test_bi)\n",
    "\n",
    "accuracy_score_bi_rf = metrics.accuracy_score(y_test_bi, predicted_rf_bi)\n",
    "confusion_matric_bi_rf = metrics.confusion_matrix(y_test_bi, predicted_rf_bi)\n",
    "classification_score_bi_rf = metrics.classification_report(y_test_bi, predicted_rf_bi)\n",
    "precission_score_bi_rf= metrics.precision_score(y_test_bi, predicted_rf_bi)\n",
    "recall_score_bi_rf = metrics.recall_score(y_test_bi, predicted_rf_bi)"
   ]
  },
  {
   "cell_type": "code",
   "execution_count": 42,
   "id": "96c3018f",
   "metadata": {},
   "outputs": [
    {
     "name": "stdout",
     "output_type": "stream",
     "text": [
      "0.6824468085106383\n",
      "0.6824468085106383\n",
      "[[633  35]\n",
      " [562 650]]\n",
      "              precision    recall  f1-score   support\n",
      "\n",
      "           0       0.53      0.95      0.68       668\n",
      "           1       0.95      0.54      0.69      1212\n",
      "\n",
      "    accuracy                           0.68      1880\n",
      "   macro avg       0.74      0.74      0.68      1880\n",
      "weighted avg       0.80      0.68      0.68      1880\n",
      "\n",
      "0.948905109489051\n",
      "0.5363036303630363\n"
     ]
    }
   ],
   "source": [
    "print(RF_score_rf_bi)\n",
    "print(accuracy_score_bi_rf)\n",
    "print(confusion_matric_bi_rf)\n",
    "print(classification_score_bi_rf)\n",
    "print(precission_score_bi_rf)\n",
    "print(recall_score_bi_rf)"
   ]
  },
  {
   "cell_type": "code",
   "execution_count": 43,
   "id": "e15698e8",
   "metadata": {},
   "outputs": [
    {
     "data": {
      "text/plain": [
       "Text(50.722222222222214, 0.5, 'y_pred')"
      ]
     },
     "execution_count": 43,
     "metadata": {},
     "output_type": "execute_result"
    },
    {
     "data": {
      "image/png": "[encoded data removed]",
      "text/plain": [
       "<Figure size 640x480 with 2 Axes>"
      ]
     },
     "metadata": {},
     "output_type": "display_data"
    }
   ],
   "source": [
    "cm_rf=confusion_matrix(y_test_bi,predicted_rf_bi)\n",
    "ax_rf=sns.heatmap(cm_rf,annot=True,cmap='Blues',fmt=' ')\n",
    "ax_rf.set_title('Confusion Matrix RandomForest with Bi-Gram')\n",
    "ax_rf.set_xlabel('y_test')\n",
    "ax_rf.set_ylabel('y_pred')"
   ]
  },
  {
   "cell_type": "markdown",
   "id": "7e6ba230",
   "metadata": {},
   "source": [
    "## Tri-Gram "
   ]
  },
  {
   "cell_type": "code",
   "execution_count": 44,
   "id": "8ad2afe5",
   "metadata": {},
   "outputs": [],
   "source": [
    "ngram_vectorizer_tri = CountVectorizer(\n",
    "    analyzer='word',\n",
    "    ngram_range=(3, 3),\n",
    "    binary=True, \n",
    "    decode_error = 'replace'\n",
    ")\n",
    "ngram_vectorizer_fit_tri = ngram_vectorizer_tri.fit_transform(x)\n"
   ]
  },
  {
   "cell_type": "code",
   "execution_count": 45,
   "id": "f89452a9",
   "metadata": {},
   "outputs": [
    {
     "data": {
      "text/plain": [
       "array(['ሀሀ ኣመት ከሃያ', 'ሀሀሀ ተንታና መቅደላ', 'ሀሀሀ ጎንደር ሰውገድሎ', ...,\n",
       "       '፪፭ አመት የመንግስት', '፫፲ ኣመተ ልደት', '፮፮፮ በእዚህ ሀገር'], dtype=object)"
      ]
     },
     "execution_count": 45,
     "metadata": {},
     "output_type": "execute_result"
    }
   ],
   "source": [
    "ngram_vectorizer_tri.get_feature_names_out()"
   ]
  },
  {
   "cell_type": "markdown",
   "id": "1b881000",
   "metadata": {},
   "source": [
    "##### spliting  TRI-Gram the data to training and test data"
   ]
  },
  {
   "cell_type": "code",
   "execution_count": 46,
   "id": "6978e96c",
   "metadata": {},
   "outputs": [],
   "source": [
    "# Split into training and testing data after vectorizing for testing purpose\n",
    "x_train_tri, x_test_tri, y_train_tri, y_test_tri = train_test_split(ngram_vectorizer_fit_tri,y,  test_size=0.2, random_state=42)"
   ]
  },
  {
   "cell_type": "markdown",
   "id": "03b13e2d",
   "metadata": {},
   "source": [
    "### TRI-gram with Naive Bayes"
   ]
  },
  {
   "cell_type": "code",
   "execution_count": 47,
   "id": "57a0f1f2",
   "metadata": {},
   "outputs": [],
   "source": [
    "model_NB_tri = MultinomialNB()\n",
    "model_NB_tri = model_NB_tri.fit(x_train_tri, y_train_tri)"
   ]
  },
  {
   "cell_type": "markdown",
   "id": "f3f8f475",
   "metadata": {},
   "source": [
    "##### predicting  and getting necessary scores and accuracy --NB"
   ]
  },
  {
   "cell_type": "code",
   "execution_count": 48,
   "id": "61fdc4f0",
   "metadata": {},
   "outputs": [],
   "source": [
    "# prediction \n",
    "predicted_tri_nb = model_NB_tri.predict(x_test_tri)\n",
    "\n",
    "# Score\n",
    "nb_score_tri_nb = model_NB_tri.score(x_test_tri, y_test_tri)\n",
    "\n",
    "accuracy_score_tri_nb = metrics.accuracy_score(y_test_tri, predicted_tri_nb)\n",
    "confusion_matric_tri_nb = metrics.confusion_matrix(y_test_tri, predicted_tri_nb)\n",
    "classification_score_tri_nb = metrics.classification_report(y_test_tri, predicted_tri_nb)\n",
    "precission_score_tri_nb = metrics.precision_score(y_test_tri, predicted_tri_nb)\n",
    "recall_score_bi_trb = metrics.recall_score(y_test_tri, predicted_tri_nb)\n"
   ]
  },
  {
   "cell_type": "code",
   "execution_count": 49,
   "id": "a5cd7241",
   "metadata": {},
   "outputs": [
    {
     "name": "stdout",
     "output_type": "stream",
     "text": [
      "0.7132978723404255\n",
      "0.7132978723404255\n",
      "[[442 226]\n",
      " [313 899]]\n",
      "              precision    recall  f1-score   support\n",
      "\n",
      "           0       0.59      0.66      0.62       668\n",
      "           1       0.80      0.74      0.77      1212\n",
      "\n",
      "    accuracy                           0.71      1880\n",
      "   macro avg       0.69      0.70      0.70      1880\n",
      "weighted avg       0.72      0.71      0.72      1880\n",
      "\n",
      "0.7991111111111111\n",
      "0.7417491749174917\n"
     ]
    }
   ],
   "source": [
    "print(nb_score_tri_nb)\n",
    "print(accuracy_score_tri_nb)\n",
    "print(confusion_matric_tri_nb)\n",
    "print(classification_score_tri_nb)\n",
    "print(precission_score_tri_nb)\n",
    "print(recall_score_bi_trb)"
   ]
  },
  {
   "cell_type": "code",
   "execution_count": 50,
   "id": "411a0436",
   "metadata": {},
   "outputs": [
    {
     "data": {
      "text/plain": [
       "Text(50.722222222222214, 0.5, 'y_pred')"
      ]
     },
     "execution_count": 50,
     "metadata": {},
     "output_type": "execute_result"
    },
    {
     "data": {
      "image/png": "[encoded data removed]",
      "text/plain": [
       "<Figure size 640x480 with 2 Axes>"
      ]
     },
     "metadata": {},
     "output_type": "display_data"
    }
   ],
   "source": [
    "cm_rf=confusion_matrix(y_test_tri,predicted_tri_nb)\n",
    "ax_rf=sns.heatmap(cm_rf,annot=True,cmap='Blues',fmt=' ')\n",
    "ax_rf.set_title('Confusion Matrix NB with Tri-gram')\n",
    "ax_rf.set_xlabel('y_test')\n",
    "ax_rf.set_ylabel('y_pred')"
   ]
  },
  {
   "cell_type": "markdown",
   "id": "8df718a7",
   "metadata": {},
   "source": [
    "### TRI-gram with Supported Vector Machine"
   ]
  },
  {
   "cell_type": "code",
   "execution_count": 51,
   "id": "209bfa89",
   "metadata": {},
   "outputs": [],
   "source": [
    "# Perform classification with SVM, kernel=lineare\n",
    "\n",
    "SVM_tri= svm.SVC( \n",
    "    kernel='linear',\n",
    "    max_iter=-1\n",
    ")\n",
    "\n",
    "SVM_tri = SVM_tri.fit(x_train_tri, y_train_tri)\n"
   ]
  },
  {
   "cell_type": "markdown",
   "id": "2db9dc64",
   "metadata": {},
   "source": [
    "##### predicting the and getting necessary accurracy -- SVM"
   ]
  },
  {
   "cell_type": "code",
   "execution_count": 52,
   "id": "cf450aad",
   "metadata": {},
   "outputs": [],
   "source": [
    "# prediction \n",
    "predicted_tri_svm = SVM_tri.predict(x_test_tri)\n",
    "\n",
    "# Score\n",
    "nb_score_tri_svm = SVM_tri.score(x_test_tri, y_test_tri)\n",
    "\n",
    "accuracy_score_tri_svm  =metrics.accuracy_score(y_test_tri, predicted_tri_svm)\n",
    "confusion_matric_tri_svm  = metrics.confusion_matrix(y_test_tri, predicted_tri_svm)\n",
    "classification_score_tri_svm  = metrics.classification_report(y_test_tri, predicted_tri_svm)\n",
    "precission_score_tri_svm  = metrics.precision_score(y_test_tri, predicted_tri_svm)\n",
    "recall_score_tri_svm  = metrics.recall_score(y_test_tri, predicted_tri_svm)\n"
   ]
  },
  {
   "cell_type": "code",
   "execution_count": 53,
   "id": "2a2b81a7",
   "metadata": {},
   "outputs": [
    {
     "name": "stdout",
     "output_type": "stream",
     "text": [
      "0.7446808510638298\n",
      "0.7446808510638298\n",
      "[[ 190  478]\n",
      " [   2 1210]]\n",
      "              precision    recall  f1-score   support\n",
      "\n",
      "           0       0.99      0.28      0.44       668\n",
      "           1       0.72      1.00      0.83      1212\n",
      "\n",
      "    accuracy                           0.74      1880\n",
      "   macro avg       0.85      0.64      0.64      1880\n",
      "weighted avg       0.81      0.74      0.69      1880\n",
      "\n",
      "0.716824644549763\n",
      "0.9983498349834984\n"
     ]
    }
   ],
   "source": [
    "print(nb_score_tri_svm)\n",
    "print(accuracy_score_tri_svm)\n",
    "print(confusion_matric_tri_svm)\n",
    "print(classification_score_tri_svm)\n",
    "print(precission_score_tri_svm)\n",
    "print(recall_score_tri_svm)"
   ]
  },
  {
   "cell_type": "code",
   "execution_count": 54,
   "id": "5b3b6530",
   "metadata": {},
   "outputs": [
    {
     "data": {
      "text/plain": [
       "Text(50.722222222222214, 0.5, 'y_pred')"
      ]
     },
     "execution_count": 54,
     "metadata": {},
     "output_type": "execute_result"
    },
    {
     "data": {
      "image/png": "[encoded data removed]",
      "text/plain": [
       "<Figure size 640x480 with 2 Axes>"
      ]
     },
     "metadata": {},
     "output_type": "display_data"
    }
   ],
   "source": [
    "cm_rf=confusion_matrix(y_test_tri,predicted_tri_svm)\n",
    "ax_rf=sns.heatmap(cm_rf,annot=True,cmap='Blues',fmt=' ')\n",
    "ax_rf.set_title('Confusion Matrix SVM with Tri-gram')\n",
    "ax_rf.set_xlabel('y_test')\n",
    "ax_rf.set_ylabel('y_pred')"
   ]
  },
  {
   "cell_type": "markdown",
   "id": "464ee786",
   "metadata": {},
   "source": [
    "### TRI-gram with Random Forest"
   ]
  },
  {
   "cell_type": "code",
   "execution_count": 55,
   "id": "05bfe598",
   "metadata": {},
   "outputs": [],
   "source": [
    "# creating a RF classifier\n",
    "RandomForest_tri = RandomForestClassifier(n_estimators = 100, n_jobs=-1)\n",
    "RandomForest_tri = RandomForest_tri.fit(x_train_tri, y_train_tri)"
   ]
  },
  {
   "cell_type": "markdown",
   "id": "51190f53",
   "metadata": {},
   "source": [
    "##### predicting the and getting necessary accurracy -- RF"
   ]
  },
  {
   "cell_type": "code",
   "execution_count": 56,
   "id": "b95c27f5",
   "metadata": {},
   "outputs": [],
   "source": [
    "# prediction \n",
    "predicted_rf_tri = RandomForest_tri.predict(x_test_tri)\n",
    "\n",
    "# Score\n",
    "RF_score_rf_tri = RandomForest_tri.score(x_test_tri, y_test_tri)\n",
    "\n",
    "accuracy_score_tri_rf = metrics.accuracy_score(y_test_tri, predicted_rf_tri)\n",
    "confusion_matric_tri_rf = metrics.confusion_matrix(y_test_tri, predicted_rf_tri)\n",
    "classification_score_tri_rf = metrics.classification_report(y_test_tri, predicted_rf_tri)\n",
    "precission_score_tri_rf= metrics.precision_score(y_test_tri, predicted_rf_tri)\n",
    "recall_score_tri_rf = metrics.recall_score(y_test_tri, predicted_rf_tri)"
   ]
  },
  {
   "cell_type": "code",
   "execution_count": 57,
   "id": "678972ee",
   "metadata": {},
   "outputs": [
    {
     "name": "stdout",
     "output_type": "stream",
     "text": [
      "0.7457446808510638\n",
      "0.7457446808510638\n",
      "[[ 194  474]\n",
      " [   4 1208]]\n",
      "              precision    recall  f1-score   support\n",
      "\n",
      "           0       0.98      0.29      0.45       668\n",
      "           1       0.72      1.00      0.83      1212\n",
      "\n",
      "    accuracy                           0.75      1880\n",
      "   macro avg       0.85      0.64      0.64      1880\n",
      "weighted avg       0.81      0.75      0.70      1880\n",
      "\n",
      "0.718192627824019\n",
      "0.9966996699669967\n"
     ]
    }
   ],
   "source": [
    "print(RF_score_rf_tri)\n",
    "print(accuracy_score_tri_rf)\n",
    "print(confusion_matric_tri_rf)\n",
    "print(classification_score_tri_rf)\n",
    "print(precission_score_tri_rf)\n",
    "print(recall_score_tri_rf)"
   ]
  },
  {
   "cell_type": "code",
   "execution_count": 58,
   "id": "f6e6f3dd",
   "metadata": {},
   "outputs": [
    {
     "data": {
      "text/plain": [
       "Text(50.722222222222214, 0.5, 'y_pred')"
      ]
     },
     "execution_count": 58,
     "metadata": {},
     "output_type": "execute_result"
    },
    {
     "data": {
      "image/png": "[encoded data removed]",
      "text/plain": [
       "<Figure size 640x480 with 2 Axes>"
      ]
     },
     "metadata": {},
     "output_type": "display_data"
    }
   ],
   "source": [
    "cm_rf=confusion_matrix(y_test_tri,predicted_rf_tri)\n",
    "ax_rf=sns.heatmap(cm_rf,annot=True,cmap='Blues',fmt=' ')\n",
    "ax_rf.set_title('Confusion Matrix RandomForest with Tri-Gram')\n",
    "ax_rf.set_xlabel('y_test')\n",
    "ax_rf.set_ylabel('y_pred')"
   ]
  },
  {
   "cell_type": "markdown",
   "id": "69dba564",
   "metadata": {},
   "source": [
    "## Uni-gram With Bi-gram"
   ]
  },
  {
   "cell_type": "code",
   "execution_count": 59,
   "id": "ae0e95e6",
   "metadata": {},
   "outputs": [],
   "source": [
    "ngram_vectorizer_uni_bi = CountVectorizer(\n",
    "    analyzer='word',\n",
    "    ngram_range=(1, 2),\n",
    "    binary=True, \n",
    "    decode_error = 'replace'\n",
    ")\n",
    "\n",
    "ngram_vectorizer_uni_bi_fit = ngram_vectorizer_uni_bi.fit_transform(x)\n"
   ]
  },
  {
   "cell_type": "code",
   "execution_count": 60,
   "id": "b14ab3ce",
   "metadata": {},
   "outputs": [
    {
     "data": {
      "text/plain": [
       "array(['_ልም', '_ልም _ባደጋቸዉ', '_ባደጋቸዉ', ..., '፮፮፮', '፮፮፮ በእዚህ', '፻፴፪'],\n",
       "      dtype=object)"
      ]
     },
     "execution_count": 60,
     "metadata": {},
     "output_type": "execute_result"
    }
   ],
   "source": [
    "ngram_vectorizer_uni_bi.get_feature_names_out()"
   ]
  },
  {
   "cell_type": "markdown",
   "id": "aa8a3651",
   "metadata": {},
   "source": [
    "##### spliting  uni with bi-Gram the data to training and test data"
   ]
  },
  {
   "cell_type": "code",
   "execution_count": 61,
   "id": "473a3010",
   "metadata": {},
   "outputs": [],
   "source": [
    "# Split into training and testing data after vectorizing for testing purpose\n",
    "x_train_uni_bi, x_test_uni_bi, y_train_uni_bi, y_test_uni_bi = train_test_split(ngram_vectorizer_uni_bi_fit, y ,  test_size=0.2, random_state=42)"
   ]
  },
  {
   "cell_type": "markdown",
   "id": "d7d211e7",
   "metadata": {},
   "source": [
    "### uni-gram + bi-gram with Naive Bayes"
   ]
  },
  {
   "cell_type": "code",
   "execution_count": 62,
   "id": "3eac273b",
   "metadata": {},
   "outputs": [],
   "source": [
    "model_NB_uni_bi = MultinomialNB()\n",
    "model_NB_uni_bi = model_NB_uni_bi.fit(x_train_uni_bi, y_train_uni_bi)"
   ]
  },
  {
   "cell_type": "markdown",
   "id": "a62ecca6",
   "metadata": {},
   "source": [
    "###### predicting  and getting necessary scores and accuracy --NB"
   ]
  },
  {
   "cell_type": "code",
   "execution_count": 63,
   "id": "8f097431",
   "metadata": {},
   "outputs": [],
   "source": [
    "# prediction \n",
    "predicted_uni_bi_nb = model_NB_uni_bi.predict(x_test_uni_bi)\n",
    "\n",
    "# Score\n",
    "nb_score_uni_bi_nb = model_NB_uni_bi.score(x_test_uni_bi, y_test_uni_bi)\n",
    "\n",
    "accuracy_score_uni_bi_nb = metrics.accuracy_score(y_test_uni_bi, predicted_uni_bi_nb)\n",
    "confusion_matric_uni_bi_nb = metrics.confusion_matrix(y_test_uni_bi, predicted_uni_bi_nb)\n",
    "classification_score_uni_bi_nb = metrics.classification_report(y_test_uni_bi, predicted_uni_bi_nb)\n",
    "precission_score_uni_bi_nb = metrics.precision_score(y_test_uni_bi, predicted_uni_bi_nb)\n",
    "recall_score_uni_bi_nb = metrics.recall_score(y_test_uni_bi, predicted_uni_bi_nb)\n"
   ]
  },
  {
   "cell_type": "code",
   "execution_count": 64,
   "id": "367ea7f1",
   "metadata": {},
   "outputs": [
    {
     "name": "stdout",
     "output_type": "stream",
     "text": [
      "0.8489361702127659\n",
      "0.8489361702127659\n",
      "[[597  71]\n",
      " [213 999]]\n",
      "              precision    recall  f1-score   support\n",
      "\n",
      "           0       0.74      0.89      0.81       668\n",
      "           1       0.93      0.82      0.88      1212\n",
      "\n",
      "    accuracy                           0.85      1880\n",
      "   macro avg       0.84      0.86      0.84      1880\n",
      "weighted avg       0.86      0.85      0.85      1880\n",
      "\n",
      "0.9336448598130841\n",
      "0.8242574257425742\n"
     ]
    }
   ],
   "source": [
    "print(nb_score_uni_bi_nb)\n",
    "print(accuracy_score_uni_bi_nb)\n",
    "print(confusion_matric_uni_bi_nb)\n",
    "print(classification_score_uni_bi_nb)\n",
    "print(precission_score_uni_bi_nb)\n",
    "print(recall_score_uni_bi_nb)"
   ]
  },
  {
   "cell_type": "code",
   "execution_count": 65,
   "id": "59fecb9a",
   "metadata": {
    "scrolled": false
   },
   "outputs": [
    {
     "data": {
      "text/plain": [
       "Text(50.722222222222214, 0.5, 'y_pred')"
      ]
     },
     "execution_count": 65,
     "metadata": {},
     "output_type": "execute_result"
    },
    {
     "data": {
      "image/png": "[encoded data removed]",
      "text/plain": [
       "<Figure size 640x480 with 2 Axes>"
      ]
     },
     "metadata": {},
     "output_type": "display_data"
    }
   ],
   "source": [
    "cm_rf=confusion_matrix(y_test_uni_bi,predicted_uni_bi_nb)\n",
    "ax_rf=sns.heatmap(cm_rf,annot=True,cmap='Blues',fmt=' ')\n",
    "ax_rf.set_title('Confusion Matrix Naive Bayes with Uni-Gram + Bi-Gram')\n",
    "ax_rf.set_xlabel('y_test')\n",
    "ax_rf.set_ylabel('y_pred')"
   ]
  },
  {
   "cell_type": "markdown",
   "id": "d43b4359",
   "metadata": {},
   "source": [
    "### uni-gram + bi-gram with Supported Vector Machine"
   ]
  },
  {
   "cell_type": "code",
   "execution_count": 66,
   "id": "7524b023",
   "metadata": {},
   "outputs": [],
   "source": [
    "# Perform classification with SVM, kernel=linear\n",
    "\n",
    "SVM_uni_bi= svm.SVC( \n",
    "    kernel='linear',\n",
    "    max_iter=-1\n",
    ")\n",
    "\n",
    "SVM_uni_bi = SVM_uni_bi.fit(x_train_uni_bi, y_train_uni_bi)\n"
   ]
  },
  {
   "cell_type": "markdown",
   "id": "8274179d",
   "metadata": {},
   "source": [
    "##### predicting the and getting necessary accurracy -- SVM"
   ]
  },
  {
   "cell_type": "code",
   "execution_count": 67,
   "id": "de6ece80",
   "metadata": {},
   "outputs": [],
   "source": [
    "# prediction \n",
    "predicted_uni_bi_svm = SVM_uni_bi.predict(x_test_uni_bi)\n",
    "\n",
    "# Score\n",
    "nb_score_uni_bi_svm = SVM_uni_bi.score(x_test_uni_bi, y_test_uni_bi)\n",
    "\n",
    "accuracy_score_uni_bi_svm  =metrics.accuracy_score(y_test_uni_bi, predicted_uni_bi_svm)\n",
    "confusion_matric_uni_bi_svm  = metrics.confusion_matrix(y_test_uni_bi, predicted_uni_bi_svm)\n",
    "classification_score_uni_bi_svm  = metrics.classification_report(y_test_uni_bi, predicted_uni_bi_svm)\n",
    "precission_score_uni_bi_svm  = metrics.precision_score(y_test_uni_bi, predicted_uni_bi_svm)\n",
    "recall_score_uni_bi_svm  = metrics.recall_score(y_test_uni_bi, predicted_uni_bi_svm)\n"
   ]
  },
  {
   "cell_type": "code",
   "execution_count": 68,
   "id": "7603441e",
   "metadata": {},
   "outputs": [
    {
     "name": "stdout",
     "output_type": "stream",
     "text": [
      "0.8792553191489362\n",
      "0.8792553191489362\n",
      "[[ 483  185]\n",
      " [  42 1170]]\n",
      "              precision    recall  f1-score   support\n",
      "\n",
      "           0       0.92      0.72      0.81       668\n",
      "           1       0.86      0.97      0.91      1212\n",
      "\n",
      "    accuracy                           0.88      1880\n",
      "   macro avg       0.89      0.84      0.86      1880\n",
      "weighted avg       0.88      0.88      0.88      1880\n",
      "\n",
      "0.8634686346863468\n",
      "0.9653465346534653\n"
     ]
    }
   ],
   "source": [
    "print(nb_score_uni_bi_svm)\n",
    "print(accuracy_score_uni_bi_svm)\n",
    "print(confusion_matric_uni_bi_svm)\n",
    "print(classification_score_uni_bi_svm)\n",
    "print(precission_score_uni_bi_svm)\n",
    "print(recall_score_uni_bi_svm)"
   ]
  },
  {
   "cell_type": "code",
   "execution_count": 69,
   "id": "54d701cf",
   "metadata": {},
   "outputs": [
    {
     "data": {
      "text/plain": [
       "Text(50.722222222222214, 0.5, 'y_pred')"
      ]
     },
     "execution_count": 69,
     "metadata": {},
     "output_type": "execute_result"
    },
    {
     "data": {
      "image/png": "[encoded data removed]",
      "text/plain": [
       "<Figure size 640x480 with 2 Axes>"
      ]
     },
     "metadata": {},
     "output_type": "display_data"
    }
   ],
   "source": [
    "cm_rf=confusion_matrix(y_test_uni_bi,predicted_uni_bi_svm)\n",
    "ax_rf=sns.heatmap(cm_rf,annot=True,cmap='Blues',fmt=' ')\n",
    "ax_rf.set_title('Confusion Matrix SVM with Tri-gram')\n",
    "ax_rf.set_xlabel('y_test')\n",
    "ax_rf.set_ylabel('y_pred')"
   ]
  },
  {
   "cell_type": "markdown",
   "id": "0c19d0a1",
   "metadata": {},
   "source": [
    "### uni-gram + bi-gram with Random Forest"
   ]
  },
  {
   "cell_type": "code",
   "execution_count": 70,
   "id": "8c6f0a93",
   "metadata": {},
   "outputs": [],
   "source": [
    "# creating a RF classifier \n",
    "RandomForest_uni_bi = RandomForestClassifier(n_estimators = 100, n_jobs=-1)\n",
    "RandomForest_uni_bi = RandomForest_uni_bi.fit(x_train_uni_bi, y_train_uni_bi)"
   ]
  },
  {
   "cell_type": "markdown",
   "id": "16782e9c",
   "metadata": {},
   "source": [
    "##### predicting the and getting necessary accurracy -- RF"
   ]
  },
  {
   "cell_type": "code",
   "execution_count": 71,
   "id": "9c7f5fc7",
   "metadata": {},
   "outputs": [],
   "source": [
    "# prediction \n",
    "predicted_rf_uni_bi = RandomForest_uni_bi.predict(x_test_uni_bi)\n",
    "\n",
    "# Score\n",
    "RF_score_rf_uni_bi = RandomForest_uni_bi.score(x_test_uni_bi, y_test_uni_bi)\n",
    "\n",
    "accuracy_score_uni_bi_rf = metrics.accuracy_score(y_test_uni_bi, predicted_rf_uni_bi)\n",
    "confusion_matric_uni_bi_rf = metrics.confusion_matrix(y_test_uni_bi, predicted_rf_uni_bi)\n",
    "classification_score_uni_bi_rf = metrics.classification_report(y_test_uni_bi, predicted_rf_uni_bi)\n",
    "precission_score_uni_bi_rf= metrics.precision_score(y_test_uni_bi, predicted_rf_uni_bi)\n",
    "recall_score_uni_bi_rf = metrics.recall_score(y_test_uni_bi, predicted_rf_uni_bi)"
   ]
  },
  {
   "cell_type": "code",
   "execution_count": 72,
   "id": "69509aff",
   "metadata": {},
   "outputs": [
    {
     "name": "stdout",
     "output_type": "stream",
     "text": [
      "0.8574468085106383\n",
      "0.8574468085106383\n",
      "[[ 436  232]\n",
      " [  36 1176]]\n",
      "              precision    recall  f1-score   support\n",
      "\n",
      "           0       0.92      0.65      0.76       668\n",
      "           1       0.84      0.97      0.90      1212\n",
      "\n",
      "    accuracy                           0.86      1880\n",
      "   macro avg       0.88      0.81      0.83      1880\n",
      "weighted avg       0.87      0.86      0.85      1880\n",
      "\n",
      "0.8352272727272727\n",
      "0.9702970297029703\n"
     ]
    }
   ],
   "source": [
    "print(RF_score_rf_uni_bi)\n",
    "print(accuracy_score_uni_bi_rf)\n",
    "print(confusion_matric_uni_bi_rf)\n",
    "print(classification_score_uni_bi_rf)\n",
    "print(precission_score_uni_bi_rf)\n",
    "print(recall_score_uni_bi_rf)"
   ]
  },
  {
   "cell_type": "code",
   "execution_count": 74,
   "id": "6c1c927e",
   "metadata": {},
   "outputs": [
    {
     "data": {
      "text/plain": [
       "Text(50.722222222222214, 0.5, 'y_pred')"
      ]
     },
     "execution_count": 74,
     "metadata": {},
     "output_type": "execute_result"
    },
    {
     "data": {
      "image/png": "[encoded data removed]",
      "text/plain": [
       "<Figure size 640x480 with 2 Axes>"
      ]
     },
     "metadata": {},
     "output_type": "display_data"
    }
   ],
   "source": [
    "cm_rf=confusion_matrix(y_test_uni_bi,predicted_rf_uni_bi)\n",
    "ax_rf=sns.heatmap(cm_rf,annot=True,cmap='Blues',fmt=' ')\n",
    "ax_rf.set_title('Confusion Matrix RandomForest with Uni-Gram + Bi-Gram')\n",
    "ax_rf.set_xlabel('y_test')\n",
    "ax_rf.set_ylabel('y_pred')"
   ]
  },
  {
   "cell_type": "markdown",
   "id": "e3ba878c",
   "metadata": {},
   "source": [
    "## Uni-gram with Tri-gram"
   ]
  },
  {
   "cell_type": "code",
   "execution_count": null,
   "id": "4a7f14e4",
   "metadata": {},
   "outputs": [],
   "source": [
    "# left blank for later after finishing re-implmenting CountVectorizer it self then it can be inser in here for its inteional --"
   ]
  },
  {
   "cell_type": "markdown",
   "id": "defaa44f",
   "metadata": {},
   "source": [
    "## Bi-Gram with Tri gram"
   ]
  },
  {
   "cell_type": "code",
   "execution_count": 75,
   "id": "c36cf063",
   "metadata": {},
   "outputs": [],
   "source": [
    "ngram_vectorizer_bi_tri = CountVectorizer(\n",
    "    analyzer='word',\n",
    "    ngram_range=(2, 3),\n",
    "    binary=True, \n",
    "    decode_error = 'replace'\n",
    ")\n",
    "ngram_vectorizer_fit_bi_tri = ngram_vectorizer_bi_tri.fit_transform(x)\n"
   ]
  },
  {
   "cell_type": "code",
   "execution_count": 76,
   "id": "f44b38d2",
   "metadata": {},
   "outputs": [
    {
     "data": {
      "text/plain": [
       "array(['_ልም _ባደጋቸዉ', 'ሀሀ ኣመት', 'ሀሀ ኣመት ከሃያ', ..., '፫፲ ኣመተ ልደት',\n",
       "       '፮፮፮ በእዚህ', '፮፮፮ በእዚህ ሀገር'], dtype=object)"
      ]
     },
     "execution_count": 76,
     "metadata": {},
     "output_type": "execute_result"
    }
   ],
   "source": [
    "ngram_vectorizer_bi_tri.get_feature_names_out()"
   ]
  },
  {
   "cell_type": "code",
   "execution_count": 77,
   "id": "dbc55059",
   "metadata": {},
   "outputs": [],
   "source": [
    "# Split into training and testing data after vectorizing for testing purpose\n",
    "x_train_bi_tri, x_test_bi_tri, y_train_bi_tri, y_test_bi_tri = train_test_split(ngram_vectorizer_fit_bi_tri, y ,  test_size=0.2, random_state=42)"
   ]
  },
  {
   "cell_type": "markdown",
   "id": "2bfac27c",
   "metadata": {},
   "source": [
    "### bi-gram + tri-gram with Naive Bayes"
   ]
  },
  {
   "cell_type": "code",
   "execution_count": 78,
   "id": "8ea5e258",
   "metadata": {},
   "outputs": [],
   "source": [
    "model_NB_bi_tri = MultinomialNB()\n",
    "model_NB_bi_tri = model_NB_bi_tri.fit(x_train_bi_tri, y_train_bi_tri)"
   ]
  },
  {
   "cell_type": "markdown",
   "id": "4cacd637",
   "metadata": {},
   "source": [
    "###### predicting  and getting necessary scores and accuracy --NB"
   ]
  },
  {
   "cell_type": "code",
   "execution_count": 79,
   "id": "10971648",
   "metadata": {},
   "outputs": [],
   "source": [
    "# prediction \n",
    "predicted_bi_tri_nb = model_NB_bi_tri.predict(x_test_bi_tri)\n",
    "\n",
    "# Score\n",
    "nb_score_bi_tri_nb = model_NB_bi_tri.score(x_test_bi_tri, y_test_bi_tri)\n",
    "\n",
    "accuracy_score_bi_tri_nb= metrics.accuracy_score(y_test_bi_tri, predicted_bi_tri_nb)\n",
    "confusion_matric_bi_tri_nb = metrics.confusion_matrix(y_test_bi_tri, predicted_bi_tri_nb)\n",
    "classification_score_bi_tri_nb = metrics.classification_report(y_test_bi_tri, predicted_bi_tri_nb)\n",
    "precission_score_bi_tri_nb = metrics.precision_score(y_test_bi_tri, predicted_bi_tri_nb)\n",
    "recall_score_bi_tri_nb = metrics.recall_score(y_test_bi_tri, predicted_bi_tri_nb)\n"
   ]
  },
  {
   "cell_type": "code",
   "execution_count": 80,
   "id": "0c494ed6",
   "metadata": {},
   "outputs": [
    {
     "name": "stdout",
     "output_type": "stream",
     "text": [
      "0.6914893617021277\n",
      "0.6914893617021277\n",
      "[[573  95]\n",
      " [485 727]]\n",
      "              precision    recall  f1-score   support\n",
      "\n",
      "           0       0.54      0.86      0.66       668\n",
      "           1       0.88      0.60      0.71      1212\n",
      "\n",
      "    accuracy                           0.69      1880\n",
      "   macro avg       0.71      0.73      0.69      1880\n",
      "weighted avg       0.76      0.69      0.70      1880\n",
      "\n",
      "0.8844282238442822\n",
      "0.5998349834983498\n"
     ]
    }
   ],
   "source": [
    "print(nb_score_bi_tri_nb)\n",
    "print(accuracy_score_bi_tri_nb)\n",
    "print(confusion_matric_bi_tri_nb)\n",
    "print(classification_score_bi_tri_nb)\n",
    "print(precission_score_bi_tri_nb)\n",
    "print(recall_score_bi_tri_nb)"
   ]
  },
  {
   "cell_type": "code",
   "execution_count": 84,
   "id": "38e1d427",
   "metadata": {},
   "outputs": [
    {
     "data": {
      "text/plain": [
       "Text(50.722222222222214, 0.5, 'y_pred')"
      ]
     },
     "execution_count": 84,
     "metadata": {},
     "output_type": "execute_result"
    },
    {
     "data": {
      "image/png": "[encoded data removed]",
      "text/plain": [
       "<Figure size 640x480 with 2 Axes>"
      ]
     },
     "metadata": {},
     "output_type": "display_data"
    }
   ],
   "source": [
    "cm_rf=confusion_matrix(y_test_bi_tri,predicted_bi_tri_nb)\n",
    "ax_rf=sns.heatmap(cm_rf,annot=True,cmap='Blues',fmt=' ')\n",
    "ax_rf.set_title('Confusion Matrix Naive Bayes with Bi-Gram + Tri-Gram')\n",
    "ax_rf.set_xlabel('y_test')\n",
    "ax_rf.set_ylabel('y_pred')"
   ]
  },
  {
   "cell_type": "markdown",
   "id": "aa76c90b",
   "metadata": {},
   "source": [
    "### bi-gram + tri-gram with Supported Vector Machine"
   ]
  },
  {
   "cell_type": "code",
   "execution_count": 85,
   "id": "9ebf4368",
   "metadata": {},
   "outputs": [],
   "source": [
    "# Perform classification with SVM, kernel=linear\n",
    "\n",
    "SVM_bi_tri= svm.SVC( \n",
    "    kernel='linear',\n",
    "    max_iter=-1\n",
    ")\n",
    "\n",
    "SVM_bi_tri = SVM_bi_tri.fit(x_train_bi_tri, y_train_bi_tri)\n"
   ]
  },
  {
   "cell_type": "markdown",
   "id": "58d05669",
   "metadata": {},
   "source": [
    "##### predicting the and getting necessary accurracy -- SVM"
   ]
  },
  {
   "cell_type": "code",
   "execution_count": 86,
   "id": "1728c97d",
   "metadata": {},
   "outputs": [],
   "source": [
    "# prediction \n",
    "predicted_bi_tri_svm = SVM_bi_tri.predict(x_test_bi_tri)\n",
    "\n",
    "# Score\n",
    "nb_score_bi_tri_svm = SVM_bi_tri.score(x_test_bi_tri, y_test_bi_tri)\n",
    "\n",
    "accuracy_score_bi_tri_svm  = metrics.accuracy_score(y_test_bi_tri, predicted_bi_tri_svm)\n",
    "confusion_matric_bi_tri_svm   = metrics.confusion_matrix(y_test_bi_tri, predicted_bi_tri_svm)\n",
    "classification_score_bi_tri_svm   = metrics.classification_report(y_test_bi_tri, predicted_bi_tri_svm)\n",
    "precission_score_bi_tri_svm  = metrics.precision_score(y_test_bi_tri, predicted_bi_tri_svm)\n",
    "recall_score_bi_tri_svm  = metrics.recall_score(y_test_bi_tri, predicted_bi_tri_svm)\n"
   ]
  },
  {
   "cell_type": "code",
   "execution_count": 87,
   "id": "bd016b66",
   "metadata": {},
   "outputs": [
    {
     "name": "stdout",
     "output_type": "stream",
     "text": [
      "0.7659574468085106\n",
      "0.7659574468085106\n",
      "[[ 236  432]\n",
      " [   8 1204]]\n",
      "              precision    recall  f1-score   support\n",
      "\n",
      "           0       0.97      0.35      0.52       668\n",
      "           1       0.74      0.99      0.85      1212\n",
      "\n",
      "    accuracy                           0.77      1880\n",
      "   macro avg       0.85      0.67      0.68      1880\n",
      "weighted avg       0.82      0.77      0.73      1880\n",
      "\n",
      "0.7359413202933985\n",
      "0.9933993399339934\n"
     ]
    }
   ],
   "source": [
    "print(nb_score_bi_tri_svm)\n",
    "print(accuracy_score_bi_tri_svm)\n",
    "print(confusion_matric_bi_tri_svm)\n",
    "print(classification_score_bi_tri_svm)\n",
    "print(precission_score_bi_tri_svm)\n",
    "print(recall_score_bi_tri_svm)"
   ]
  },
  {
   "cell_type": "code",
   "execution_count": 88,
   "id": "bd83f5f5",
   "metadata": {},
   "outputs": [
    {
     "data": {
      "text/plain": [
       "Text(50.722222222222214, 0.5, 'y_pred')"
      ]
     },
     "execution_count": 88,
     "metadata": {},
     "output_type": "execute_result"
    },
    {
     "data": {
      "image/png": "[encoded data removed]",
      "text/plain": [
       "<Figure size 640x480 with 2 Axes>"
      ]
     },
     "metadata": {},
     "output_type": "display_data"
    }
   ],
   "source": [
    "cm_rf=confusion_matrix(y_test_bi_tri,predicted_bi_tri_svm)\n",
    "ax_rf=sns.heatmap(cm_rf,annot=True,cmap='Blues',fmt=' ')\n",
    "ax_rf.set_title('Confusion Matrix SVM with Bi-gram + Tri-gram')\n",
    "ax_rf.set_xlabel('y_test')\n",
    "ax_rf.set_ylabel('y_pred')"
   ]
  },
  {
   "cell_type": "markdown",
   "id": "79b51072",
   "metadata": {},
   "source": [
    "### bi-gram + tri-gram with Random Forest "
   ]
  },
  {
   "cell_type": "code",
   "execution_count": 89,
   "id": "16fab3eb",
   "metadata": {},
   "outputs": [],
   "source": [
    "# creating a RF classifier \n",
    "RandomForest_bi_tri = RandomForestClassifier(n_estimators = 100, n_jobs=-1)\n",
    "RandomForest_bi_tri = RandomForest_bi_tri.fit(x_train_bi_tri, y_train_bi_tri)"
   ]
  },
  {
   "cell_type": "markdown",
   "id": "666a91bc",
   "metadata": {},
   "source": [
    "##### predicting the and getting necessary accurracy -- RF"
   ]
  },
  {
   "cell_type": "code",
   "execution_count": 90,
   "id": "66587264",
   "metadata": {},
   "outputs": [],
   "source": [
    "# prediction \n",
    "predicted_rf_bi_tri = RandomForest_bi_tri.predict(x_test_bi_tri)\n",
    "\n",
    "# Score\n",
    "RF_score_rf_bi_tri = RandomForest_bi_tri.score(x_test_bi_tri, y_test_bi_tri)\n",
    "\n",
    "accuracy_score_bi_tri_rf = metrics.accuracy_score(y_test_bi_tri, predicted_rf_bi_tri)\n",
    "confusion_matric_bi_tri_rf = metrics.confusion_matrix(y_test_bi_tri, predicted_rf_bi_tri)\n",
    "classification_score_bi_tri_rf = metrics.classification_report(y_test_bi_tri, predicted_rf_bi_tri)\n",
    "precission_score_bi_tri_rf= metrics.precision_score(y_test_bi_tri, predicted_rf_bi_tri)\n",
    "recall_score_bi_tri_rf = metrics.recall_score(y_test_bi_tri, predicted_rf_bi_tri)"
   ]
  },
  {
   "cell_type": "code",
   "execution_count": 91,
   "id": "68edfb85",
   "metadata": {},
   "outputs": [
    {
     "name": "stdout",
     "output_type": "stream",
     "text": [
      "0.6808510638297872\n",
      "0.6808510638297872\n",
      "[[637  31]\n",
      " [569 643]]\n",
      "              precision    recall  f1-score   support\n",
      "\n",
      "           0       0.53      0.95      0.68       668\n",
      "           1       0.95      0.53      0.68      1212\n",
      "\n",
      "    accuracy                           0.68      1880\n",
      "   macro avg       0.74      0.74      0.68      1880\n",
      "weighted avg       0.80      0.68      0.68      1880\n",
      "\n",
      "0.9540059347181009\n",
      "0.5305280528052805\n"
     ]
    }
   ],
   "source": [
    "print(RF_score_rf_bi_tri)\n",
    "print(accuracy_score_bi_tri_rf)\n",
    "print(confusion_matric_bi_tri_rf)\n",
    "print(classification_score_bi_tri_rf)\n",
    "print(precission_score_bi_tri_rf)\n",
    "print(recall_score_bi_tri_rf)"
   ]
  },
  {
   "cell_type": "code",
   "execution_count": 93,
   "id": "d83299cf",
   "metadata": {},
   "outputs": [
    {
     "data": {
      "text/plain": [
       "Text(50.722222222222214, 0.5, 'y_pred')"
      ]
     },
     "execution_count": 93,
     "metadata": {},
     "output_type": "execute_result"
    },
    {
     "data": {
      "image/png": "[encoded data removed]",
      "text/plain": [
       "<Figure size 640x480 with 2 Axes>"
      ]
     },
     "metadata": {},
     "output_type": "display_data"
    }
   ],
   "source": [
    "cm_rf=confusion_matrix(y_test_bi_tri,predicted_rf_bi_tri)\n",
    "ax_rf=sns.heatmap(cm_rf,annot=True,cmap='Blues',fmt=' ')\n",
    "ax_rf.set_title('Confusion Matrix RandomForest with bi-Gram + tri-Gram')\n",
    "ax_rf.set_xlabel('y_test')\n",
    "ax_rf.set_ylabel('y_pred')"
   ]
  },
  {
   "cell_type": "markdown",
   "id": "bfe2e304",
   "metadata": {},
   "source": [
    "## combination of Uni-gram , Bi-gram and Tri-gram"
   ]
  },
  {
   "cell_type": "code",
   "execution_count": 94,
   "id": "d2b4148f",
   "metadata": {},
   "outputs": [],
   "source": [
    "ngram_vectorizer_all = CountVectorizer(\n",
    "    analyzer='word',\n",
    "    ngram_range=(1, 3),\n",
    "    binary=True, \n",
    "    decode_error = 'replace'\n",
    ")\n",
    "ngram_vectorizer_fit_all = ngram_vectorizer_all.fit_transform(x)\n"
   ]
  },
  {
   "cell_type": "code",
   "execution_count": 95,
   "id": "a604f5da",
   "metadata": {},
   "outputs": [
    {
     "data": {
      "text/plain": [
       "array(['_ልም', '_ልም _ባደጋቸዉ', '_ባደጋቸዉ', ..., '፮፮፮ በእዚህ', '፮፮፮ በእዚህ ሀገር',\n",
       "       '፻፴፪'], dtype=object)"
      ]
     },
     "execution_count": 95,
     "metadata": {},
     "output_type": "execute_result"
    }
   ],
   "source": [
    "ngram_vectorizer_all.get_feature_names_out()"
   ]
  },
  {
   "cell_type": "markdown",
   "id": "b92d715a",
   "metadata": {},
   "source": [
    "##### spliting  uni-Gram , bi-Gram , Tir-Gram the data to training and test data"
   ]
  },
  {
   "cell_type": "code",
   "execution_count": 97,
   "id": "c51a91c4",
   "metadata": {},
   "outputs": [],
   "source": [
    "# Split into training and testing data after vectorizing for testing purpose\n",
    "x_train_all, x_test_all, y_train_all, y_test_all = train_test_split(ngram_vectorizer_fit_all, y ,  test_size=0.2, random_state=42)"
   ]
  },
  {
   "cell_type": "markdown",
   "id": "07351160",
   "metadata": {},
   "source": [
    "### all-grams with Naive Bayes"
   ]
  },
  {
   "cell_type": "code",
   "execution_count": 98,
   "id": "10b641b7",
   "metadata": {},
   "outputs": [],
   "source": [
    "model_NB_all = MultinomialNB()\n",
    "model_NB_all= model_NB_all.fit(x_train_all, y_train_all)"
   ]
  },
  {
   "cell_type": "markdown",
   "id": "872c0b19",
   "metadata": {},
   "source": [
    "###### predicting  and getting necessary scores and accuracy --NB"
   ]
  },
  {
   "cell_type": "code",
   "execution_count": 100,
   "id": "04574a37",
   "metadata": {},
   "outputs": [],
   "source": [
    "# prediction \n",
    "predicted_all_nb = model_NB_all.predict(x_test_all)\n",
    "\n",
    "# Score\n",
    "nb_score_all_nb = model_NB_all.score(x_test_all, y_test_all)\n",
    "\n",
    "accuracy_score_all_nb = metrics.accuracy_score(y_test_all, predicted_all_nb)\n",
    "confusion_matric_all_nb = metrics.confusion_matrix(y_test_all, predicted_all_nb)\n",
    "classification_score_all_nb = metrics.classification_report(y_test_all, predicted_all_nb)\n",
    "precission_score_uni_all_nb = metrics.precision_score(y_test_all, predicted_all_nb)\n",
    "recall_score_all_nb = metrics.recall_score(y_test_all, predicted_all_nb)\n"
   ]
  },
  {
   "cell_type": "code",
   "execution_count": 101,
   "id": "fe71a7b5",
   "metadata": {},
   "outputs": [
    {
     "name": "stdout",
     "output_type": "stream",
     "text": [
      "0.8271276595744681\n",
      "0.8271276595744681\n",
      "[[619  49]\n",
      " [276 936]]\n",
      "              precision    recall  f1-score   support\n",
      "\n",
      "           0       0.69      0.93      0.79       668\n",
      "           1       0.95      0.77      0.85      1212\n",
      "\n",
      "    accuracy                           0.83      1880\n",
      "   macro avg       0.82      0.85      0.82      1880\n",
      "weighted avg       0.86      0.83      0.83      1880\n",
      "\n",
      "0.950253807106599\n",
      "0.7722772277227723\n"
     ]
    }
   ],
   "source": [
    "print(nb_score_all_nb)\n",
    "print(accuracy_score_all_nb)\n",
    "print(confusion_matric_all_nb)\n",
    "print(classification_score_all_nb)\n",
    "print(precission_score_uni_all_nb)\n",
    "print(recall_score_all_nb)"
   ]
  },
  {
   "cell_type": "code",
   "execution_count": 102,
   "id": "cd5e7d7d",
   "metadata": {},
   "outputs": [
    {
     "data": {
      "text/plain": [
       "Text(50.722222222222214, 0.5, 'y_pred')"
      ]
     },
     "execution_count": 102,
     "metadata": {},
     "output_type": "execute_result"
    },
    {
     "data": {
      "image/png": "[encoded data removed]",
      "text/plain": [
       "<Figure size 640x480 with 2 Axes>"
      ]
     },
     "metadata": {},
     "output_type": "display_data"
    }
   ],
   "source": [
    "cm_rf=confusion_matrix(y_test_all,predicted_all_nb)\n",
    "ax_rf=sns.heatmap(cm_rf,annot=True,cmap='Blues',fmt=' ')\n",
    "ax_rf.set_title('Confusion Matrix Naive Bayes with Uni-Gram + Bi-Gram + Tri-Gram')\n",
    "ax_rf.set_xlabel('y_test')\n",
    "ax_rf.set_ylabel('y_pred')"
   ]
  },
  {
   "cell_type": "markdown",
   "id": "d7a08963",
   "metadata": {},
   "source": [
    "### All-gram with Supported Vector Machine"
   ]
  },
  {
   "cell_type": "code",
   "execution_count": 103,
   "id": "63b32514",
   "metadata": {},
   "outputs": [],
   "source": [
    "# Perform classification with SVM, kernel=linear\n",
    "\n",
    "SVM_all_gram= svm.SVC( \n",
    "    kernel='linear',\n",
    "    max_iter=-1\n",
    ")\n",
    "\n",
    "SVM_all_gram = SVM_all_gram.fit(x_train_all, y_train_all)\n"
   ]
  },
  {
   "cell_type": "markdown",
   "id": "0eff7ec2",
   "metadata": {},
   "source": [
    "##### predicting the and getting necessary accurracy -- SVM"
   ]
  },
  {
   "cell_type": "code",
   "execution_count": 104,
   "id": "aca98872",
   "metadata": {},
   "outputs": [],
   "source": [
    "# prediction \n",
    "predicted_all_svm = SVM_all_gram.predict(x_test_all)\n",
    "\n",
    "# Score\n",
    "nb_score_all_svm = SVM_all_gram.score(x_test_all, y_test_all)\n",
    "\n",
    "accuracy_score_all_svm = metrics.accuracy_score(y_test_all, predicted_all_svm)\n",
    "confusion_matric_all_svm  = metrics.confusion_matrix(y_test_all, predicted_all_svm)\n",
    "classification_score_all_svm   = metrics.classification_report(y_test_all, predicted_all_svm)\n",
    "precission_score_all_svm = metrics.precision_score(y_test_all, predicted_all_svm)\n",
    "recall_score_all_svm = metrics.recall_score(y_test_all, predicted_all_svm)\n"
   ]
  },
  {
   "cell_type": "code",
   "execution_count": 105,
   "id": "77719afe",
   "metadata": {},
   "outputs": [
    {
     "name": "stdout",
     "output_type": "stream",
     "text": [
      "0.8739361702127659\n",
      "0.8739361702127659\n",
      "[[ 468  200]\n",
      " [  37 1175]]\n",
      "              precision    recall  f1-score   support\n",
      "\n",
      "           0       0.93      0.70      0.80       668\n",
      "           1       0.85      0.97      0.91      1212\n",
      "\n",
      "    accuracy                           0.87      1880\n",
      "   macro avg       0.89      0.84      0.85      1880\n",
      "weighted avg       0.88      0.87      0.87      1880\n",
      "\n",
      "0.8545454545454545\n",
      "0.9694719471947195\n"
     ]
    }
   ],
   "source": [
    "print(nb_score_all_svm)\n",
    "print(accuracy_score_all_svm)\n",
    "print(confusion_matric_all_svm)\n",
    "print(classification_score_all_svm)\n",
    "print(precission_score_all_svm)\n",
    "print(recall_score_all_svm)"
   ]
  },
  {
   "cell_type": "code",
   "execution_count": 106,
   "id": "7c7687f8",
   "metadata": {},
   "outputs": [
    {
     "data": {
      "text/plain": [
       "Text(50.722222222222214, 0.5, 'y_pred')"
      ]
     },
     "execution_count": 106,
     "metadata": {},
     "output_type": "execute_result"
    },
    {
     "data": {
      "image/png": "[encoded data removed]",
      "text/plain": [
       "<Figure size 640x480 with 2 Axes>"
      ]
     },
     "metadata": {},
     "output_type": "display_data"
    }
   ],
   "source": [
    "cm_rf=confusion_matrix(y_test_all,predicted_all_svm)\n",
    "ax_rf=sns.heatmap(cm_rf,annot=True,cmap='Blues',fmt=' ')\n",
    "ax_rf.set_title('Confusion Matrix SVM with Bi-gram + Tri-gram')\n",
    "ax_rf.set_xlabel('y_test')\n",
    "ax_rf.set_ylabel('y_pred')"
   ]
  },
  {
   "cell_type": "markdown",
   "id": "b12ea95e",
   "metadata": {},
   "source": [
    "### all-gram with Random Forest "
   ]
  },
  {
   "cell_type": "code",
   "execution_count": 107,
   "id": "bb8f6410",
   "metadata": {},
   "outputs": [],
   "source": [
    "# creating a RF classifier \n",
    "RandomForest_all = RandomForestClassifier(n_estimators = 100, n_jobs=-1)\n",
    "RandomForest_all = RandomForest_all.fit(x_train_all, y_train_all)"
   ]
  },
  {
   "cell_type": "markdown",
   "id": "de00ba48",
   "metadata": {},
   "source": [
    "##### predicting the and getting necessary accurracy -- RF"
   ]
  },
  {
   "cell_type": "code",
   "execution_count": 108,
   "id": "dbc0d928",
   "metadata": {},
   "outputs": [],
   "source": [
    "# prediction \n",
    "predicted_all_rf = RandomForest_all.predict(x_test_all)\n",
    "\n",
    "# Score\n",
    "RF_score_all_rf  = RandomForest_all.score(x_test_all, y_test_all)\n",
    "\n",
    "accuracy_score_all_rf  = metrics.accuracy_score(y_test_all, predicted_all_rf)\n",
    "confusion_matric_all_rf  = metrics.confusion_matrix(y_test_all, predicted_all_rf)\n",
    "classification_score_all_rf  = metrics.classification_report(y_test_all, predicted_all_rf)\n",
    "precission_score_all_rf = metrics.precision_score(y_test_all, predicted_all_rf)\n",
    "recall_score_all_rf  = metrics.recall_score(y_test_all, predicted_all_rf)"
   ]
  },
  {
   "cell_type": "code",
   "execution_count": 109,
   "id": "7858e9b6",
   "metadata": {},
   "outputs": [
    {
     "name": "stdout",
     "output_type": "stream",
     "text": [
      "0.8595744680851064\n",
      "0.8595744680851064\n",
      "[[ 437  231]\n",
      " [  33 1179]]\n",
      "              precision    recall  f1-score   support\n",
      "\n",
      "           0       0.93      0.65      0.77       668\n",
      "           1       0.84      0.97      0.90      1212\n",
      "\n",
      "    accuracy                           0.86      1880\n",
      "   macro avg       0.88      0.81      0.83      1880\n",
      "weighted avg       0.87      0.86      0.85      1880\n",
      "\n",
      "0.8361702127659575\n",
      "0.9727722772277227\n"
     ]
    }
   ],
   "source": [
    "print(RF_score_all_rf)\n",
    "print(accuracy_score_all_rf)\n",
    "print(confusion_matric_all_rf)\n",
    "print(classification_score_all_rf)\n",
    "print(precission_score_all_rf)\n",
    "print(recall_score_all_rf)"
   ]
  },
  {
   "cell_type": "code",
   "execution_count": 110,
   "id": "1b707b3f",
   "metadata": {},
   "outputs": [
    {
     "data": {
      "text/plain": [
       "Text(50.722222222222214, 0.5, 'y_pred')"
      ]
     },
     "execution_count": 110,
     "metadata": {},
     "output_type": "execute_result"
    },
    {
     "data": {
      "image/png": "[encoded data removed]",
      "text/plain": [
       "<Figure size 640x480 with 2 Axes>"
      ]
     },
     "metadata": {},
     "output_type": "display_data"
    }
   ],
   "source": [
    "cm_rf=confusion_matrix(y_test_all,predicted_all_rf)\n",
    "ax_rf=sns.heatmap(cm_rf,annot=True,cmap='Blues',fmt=' ')\n",
    "ax_rf.set_title('Confusion Matrix RandomForest with Uni-gram + bi-Gram + tri-Gram')\n",
    "ax_rf.set_xlabel('y_test')\n",
    "ax_rf.set_ylabel('y_pred')"
   ]
  },
  {
   "cell_type": "code",
   "execution_count": null,
   "id": "e3e936fe",
   "metadata": {},
   "outputs": [],
   "source": []
  },
  {
   "cell_type": "code",
   "execution_count": null,
   "id": "8f82cb0f",
   "metadata": {},
   "outputs": [],
   "source": []
  },
  {
   "cell_type": "code",
   "execution_count": null,
   "id": "cdd8faca",
   "metadata": {},
   "outputs": [],
   "source": []
  },
  {
   "cell_type": "code",
   "execution_count": null,
   "id": "ba3c77b1",
   "metadata": {},
   "outputs": [],
   "source": []
  },
  {
   "cell_type": "code",
   "execution_count": null,
   "id": "26e64f0b",
   "metadata": {},
   "outputs": [],
   "source": []
  }
 ],
 "metadata": {
  "kernelspec": {
   "display_name": "workingKernel",
   "language": "python",
   "name": "workingkernel"
  },
  "language_info": {
   "codemirror_mode": {
    "name": "ipython",
    "version": 3
   },
   "file_extension": ".py",
   "mimetype": "text/x-python",
   "name": "python",
   "nbconvert_exporter": "python",
   "pygments_lexer": "ipython3",
   "version": "3.9.5"
  }
 },
 "nbformat": 4,
 "nbformat_minor": 5
}
